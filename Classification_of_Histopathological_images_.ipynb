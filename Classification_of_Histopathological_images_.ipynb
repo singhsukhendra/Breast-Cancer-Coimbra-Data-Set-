{
  "nbformat": 4,
  "nbformat_minor": 0,
  "metadata": {
    "colab": {
      "name": "Classification of Histopathological images  .ipynb",
      "provenance": [],
      "include_colab_link": true
    },
    "kernelspec": {
      "name": "python3",
      "display_name": "Python 3"
    },
    "accelerator": "GPU"
  },
  "cells": [
    {
      "cell_type": "markdown",
      "metadata": {
        "id": "view-in-github",
        "colab_type": "text"
      },
      "source": [
        "<a href=\"https://colab.research.google.com/github/singhsukhendra/Breast-Cancer-Coimbra-Data-Set-/blob/master/Classification_of_Histopathological_images_.ipynb\" target=\"_parent\"><img src=\"https://colab.research.google.com/assets/colab-badge.svg\" alt=\"Open In Colab\"/></a>"
      ]
    },
    {
      "cell_type": "code",
      "metadata": {
        "id": "rfQhN0_xc9js",
        "colab_type": "code",
        "outputId": "3c05e5c0-36eb-4302-de0f-c9dc577ca60d",
        "colab": {
          "base_uri": "https://localhost:8080/",
          "height": 54
        }
      },
      "source": [
        "from google.colab import drive\n",
        "drive.mount('/content/drive')"
      ],
      "execution_count": 27,
      "outputs": [
        {
          "output_type": "stream",
          "text": [
            "Drive already mounted at /content/drive; to attempt to forcibly remount, call drive.mount(\"/content/drive\", force_remount=True).\n"
          ],
          "name": "stdout"
        }
      ]
    },
    {
      "cell_type": "code",
      "metadata": {
        "id": "KHId1LwydJcI",
        "colab_type": "code",
        "colab": {
          "base_uri": "https://localhost:8080/",
          "height": 34
        },
        "outputId": "80f5d055-d62a-41ac-d5bc-09dc10acf1d0"
      },
      "source": [
        "! mkdir weights"
      ],
      "execution_count": 28,
      "outputs": [
        {
          "output_type": "stream",
          "text": [
            "mkdir: cannot create directory ‘weights’: File exists\n"
          ],
          "name": "stdout"
        }
      ]
    },
    {
      "cell_type": "code",
      "metadata": {
        "id": "0HKTeS4PdMXa",
        "colab_type": "code",
        "colab": {
          "base_uri": "https://localhost:8080/",
          "height": 34
        },
        "outputId": "18587490-b096-445c-fcf0-b2a0a20d0536"
      },
      "source": [
        "!mkdir history"
      ],
      "execution_count": 29,
      "outputs": [
        {
          "output_type": "stream",
          "text": [
            "mkdir: cannot create directory ‘history’: File exists\n"
          ],
          "name": "stdout"
        }
      ]
    },
    {
      "cell_type": "code",
      "metadata": {
        "id": "AyciREGhdP0B",
        "colab_type": "code",
        "colab": {}
      },
      "source": [
        "from pathlib import Path\n",
        "import pandas as pd\n",
        "import numpy as np\n",
        "import json\n",
        "import glob\n",
        "import os\n",
        "import os\n",
        "import cv2\n",
        "import glob\n",
        "import numpy as np\n",
        "import pandas as pd\n",
        "import random\n",
        "import pickle\n",
        "from tqdm import tqdm\n",
        "from pathlib import Path\n",
        "import matplotlib\n",
        "import matplotlib.pyplot as plt\n",
        "import matplotlib.image as mpimg\n",
        "\n",
        "from scipy import ndimage\n",
        "import skimage\n",
        "from skimage.io import imread\n",
        "from skimage.transform import resize\n",
        "from sklearn.utils import shuffle\n",
        "from sklearn.metrics import confusion_matrix, precision_score, recall_score\n",
        "from sklearn.metrics import roc_curve\n",
        "from sklearn.metrics import roc_auc_score\n",
        "from sklearn.model_selection import StratifiedShuffleSplit as s_split\n",
        "import tensorflow as tf\n",
        "from keras.models import Sequential\n",
        "from keras.layers import Dense , Activation\n",
        "from keras.layers import Dropout\n",
        "from keras.layers import Flatten\n",
        "from keras.constraints import maxnorm\n",
        "from keras.optimizers import SGD , RMSprop, Adam\n",
        "from keras.layers import Conv2D , SeparableConv2D, BatchNormalization, UpSampling2D, MaxPool2D\n",
        "from keras.layers import MaxPooling2D, Average, Input, Concatenate, LeakyReLU, Add, ELU, PReLU, ReLU\n",
        "from keras.callbacks import EarlyStopping\n",
        "from keras.preprocessing.image import ImageDataGenerator\n",
        "from keras.callbacks import ReduceLROnPlateau , ModelCheckpoint\n",
        "from keras.utils.np_utils import to_categorical\n",
        "from keras import backend as BE\n",
        "\n",
        "from keras.applications.inception_v3 import InceptionV3\n",
        "from keras.applications.inception_resnet_v2 import InceptionResNetV2\n",
        "from keras.applications.xception import Xception\n",
        "from keras.applications.resnet50 import ResNet50\n",
        "from keras.layers import GlobalAveragePooling2D\n",
        "from keras.models import Model\n",
        "from keras.utils import plot_model\n",
        "from numpy.random import seed\n",
        "from tensorflow import set_random_seed"
      ],
      "execution_count": 0,
      "outputs": []
    },
    {
      "cell_type": "code",
      "metadata": {
        "id": "DLDX-2tvdcSI",
        "colab_type": "code",
        "outputId": "91b6825b-7093-48d6-d2ad-06e18820a29e",
        "colab": {
          "base_uri": "https://localhost:8080/",
          "height": 411
        }
      },
      "source": [
        "! pip install keras-vis"
      ],
      "execution_count": 31,
      "outputs": [
        {
          "output_type": "stream",
          "text": [
            "Requirement already satisfied: keras-vis in /usr/local/lib/python3.6/dist-packages (0.4.1)\n",
            "Requirement already satisfied: matplotlib in /usr/local/lib/python3.6/dist-packages (from keras-vis) (3.1.2)\n",
            "Requirement already satisfied: scikit-image in /usr/local/lib/python3.6/dist-packages (from keras-vis) (0.15.0)\n",
            "Requirement already satisfied: keras in /usr/local/lib/python3.6/dist-packages (from keras-vis) (2.2.5)\n",
            "Requirement already satisfied: h5py in /usr/local/lib/python3.6/dist-packages (from keras-vis) (2.8.0)\n",
            "Requirement already satisfied: six in /usr/local/lib/python3.6/dist-packages (from keras-vis) (1.12.0)\n",
            "Requirement already satisfied: pyparsing!=2.0.4,!=2.1.2,!=2.1.6,>=2.0.1 in /usr/local/lib/python3.6/dist-packages (from matplotlib->keras-vis) (2.4.5)\n",
            "Requirement already satisfied: python-dateutil>=2.1 in /usr/local/lib/python3.6/dist-packages (from matplotlib->keras-vis) (2.6.1)\n",
            "Requirement already satisfied: cycler>=0.10 in /usr/local/lib/python3.6/dist-packages (from matplotlib->keras-vis) (0.10.0)\n",
            "Requirement already satisfied: numpy>=1.11 in /usr/local/lib/python3.6/dist-packages (from matplotlib->keras-vis) (1.17.4)\n",
            "Requirement already satisfied: kiwisolver>=1.0.1 in /usr/local/lib/python3.6/dist-packages (from matplotlib->keras-vis) (1.1.0)\n",
            "Requirement already satisfied: scipy>=0.17.0 in /usr/local/lib/python3.6/dist-packages (from scikit-image->keras-vis) (1.2.0)\n",
            "Requirement already satisfied: networkx>=2.0 in /usr/local/lib/python3.6/dist-packages (from scikit-image->keras-vis) (2.4)\n",
            "Requirement already satisfied: imageio>=2.0.1 in /usr/local/lib/python3.6/dist-packages (from scikit-image->keras-vis) (2.4.1)\n",
            "Requirement already satisfied: pillow>=4.3.0 in /usr/local/lib/python3.6/dist-packages (from scikit-image->keras-vis) (4.3.0)\n",
            "Requirement already satisfied: PyWavelets>=0.4.0 in /usr/local/lib/python3.6/dist-packages (from scikit-image->keras-vis) (1.1.1)\n",
            "Requirement already satisfied: keras-applications>=1.0.8 in /usr/local/lib/python3.6/dist-packages (from keras->keras-vis) (1.0.8)\n",
            "Requirement already satisfied: pyyaml in /usr/local/lib/python3.6/dist-packages (from keras->keras-vis) (3.13)\n",
            "Requirement already satisfied: keras-preprocessing>=1.1.0 in /usr/local/lib/python3.6/dist-packages (from keras->keras-vis) (1.1.0)\n",
            "Requirement already satisfied: setuptools in /usr/local/lib/python3.6/dist-packages (from kiwisolver>=1.0.1->matplotlib->keras-vis) (42.0.2)\n",
            "Requirement already satisfied: decorator>=4.3.0 in /usr/local/lib/python3.6/dist-packages (from networkx>=2.0->scikit-image->keras-vis) (4.4.1)\n",
            "Requirement already satisfied: olefile in /usr/local/lib/python3.6/dist-packages (from pillow>=4.3.0->scikit-image->keras-vis) (0.46)\n"
          ],
          "name": "stdout"
        }
      ]
    },
    {
      "cell_type": "code",
      "metadata": {
        "id": "72_2gBRLowDc",
        "colab_type": "code",
        "colab": {
          "base_uri": "https://localhost:8080/",
          "height": 51
        },
        "outputId": "cd76014d-94a7-4a12-e1f7-527d4bfd93dd"
      },
      "source": [
        "!pip install scipy==1.2.0"
      ],
      "execution_count": 32,
      "outputs": [
        {
          "output_type": "stream",
          "text": [
            "Requirement already satisfied: scipy==1.2.0 in /usr/local/lib/python3.6/dist-packages (1.2.0)\n",
            "Requirement already satisfied: numpy>=1.8.2 in /usr/local/lib/python3.6/dist-packages (from scipy==1.2.0) (1.17.4)\n"
          ],
          "name": "stdout"
        }
      ]
    },
    {
      "cell_type": "code",
      "metadata": {
        "id": "ltx8xS12pSbS",
        "colab_type": "code",
        "colab": {}
      },
      "source": [
        ""
      ],
      "execution_count": 0,
      "outputs": []
    },
    {
      "cell_type": "code",
      "metadata": {
        "id": "8Y1cdkJTdgYe",
        "colab_type": "code",
        "colab": {}
      },
      "source": [
        "import vis\n",
        "from vis.visualization import visualize_cam, visualize_cam_with_losses, visualize_activation, visualize_saliency\n",
        "from vis.utils import utils\n",
        "\n",
        " "
      ],
      "execution_count": 0,
      "outputs": []
    },
    {
      "cell_type": "code",
      "metadata": {
        "id": "ikKlPyexe78q",
        "colab_type": "code",
        "colab": {}
      },
      "source": [
        "def get_image_data(path):\n",
        "    X=[]\n",
        "    y=[]\n",
        "    for nextDir in os.listdir(path):\n",
        "        if not nextDir.startswith('.'):\n",
        "            if nextDir in ['NORMAL']:\n",
        "                label = 0\n",
        "            elif nextDir in ['IDC']:\n",
        "                label = 1\n",
        "            else:\n",
        "                label = 2\n",
        "\n",
        "            temp = path + nextDir\n",
        "\n",
        "            for file in tqdm(os.listdir(temp)):\n",
        "                img = cv2.imread(temp + '/' + file, 1)\n",
        "                img = cv2.resize(img,(100,100))\n",
        "                img1 = cv2.split(cv2.cvtColor(img, cv2.COLOR_BGR2LAB))[0]\n",
        "                img2 = cv2.split(cv2.cvtColor(img, cv2.COLOR_BGR2HSV))[0]\n",
        "                img3 = cv2.split(cv2.cvtColor(img, cv2.COLOR_BGR2HSV))[1]\n",
        "                img4 = cv2.split(cv2.cvtColor(img, cv2.COLOR_BGR2LAB))[1]\n",
        "                if img is not None:\n",
        "                    clahe = cv2.createCLAHE(clipLimit=5, tileGridSize=(16,16))\n",
        "                    planes = cv2.split(img)\n",
        "                    for i in range(0,3):\n",
        "                        planes[i] =clahe.apply(planes[i])\n",
        "                    img = cv2.merge(planes)\n",
        "                    #img = clahe.apply(img)\n",
        "                    img = cv2.GaussianBlur(img,(5,5),0)\n",
        "                    #img = skimage.transform.resize(img, (299, 299, 3))\n",
        "                    img = cv2.merge([img,img1,img2,img3,img4])\n",
        "                    img = np.asarray(img)\n",
        "                    X.append(img)\n",
        "                    y.append(label)\n",
        "\n",
        "    X = np.asarray(X)\n",
        "    y = np.asarray(y)\n",
        "    return X,y"
      ],
      "execution_count": 0,
      "outputs": []
    },
    {
      "cell_type": "code",
      "metadata": {
        "id": "xAwtCx7vqB1O",
        "colab_type": "code",
        "colab": {
          "base_uri": "https://localhost:8080/",
          "height": 275
        },
        "outputId": "e8c5b270-789c-4b39-b4a5-cf53a0eaff7c"
      },
      "source": [
        "! pip install mlxtend"
      ],
      "execution_count": 35,
      "outputs": [
        {
          "output_type": "stream",
          "text": [
            "Requirement already satisfied: mlxtend in /usr/local/lib/python3.6/dist-packages (0.14.0)\n",
            "Requirement already satisfied: scipy>=0.17 in /usr/local/lib/python3.6/dist-packages (from mlxtend) (1.2.0)\n",
            "Requirement already satisfied: scikit-learn>=0.18 in /usr/local/lib/python3.6/dist-packages (from mlxtend) (0.21.3)\n",
            "Requirement already satisfied: matplotlib>=1.5.1 in /usr/local/lib/python3.6/dist-packages (from mlxtend) (3.1.2)\n",
            "Requirement already satisfied: pandas>=0.17.1 in /usr/local/lib/python3.6/dist-packages (from mlxtend) (0.25.3)\n",
            "Requirement already satisfied: setuptools in /usr/local/lib/python3.6/dist-packages (from mlxtend) (42.0.2)\n",
            "Requirement already satisfied: numpy>=1.10.4 in /usr/local/lib/python3.6/dist-packages (from mlxtend) (1.17.4)\n",
            "Requirement already satisfied: joblib>=0.11 in /usr/local/lib/python3.6/dist-packages (from scikit-learn>=0.18->mlxtend) (0.14.1)\n",
            "Requirement already satisfied: kiwisolver>=1.0.1 in /usr/local/lib/python3.6/dist-packages (from matplotlib>=1.5.1->mlxtend) (1.1.0)\n",
            "Requirement already satisfied: python-dateutil>=2.1 in /usr/local/lib/python3.6/dist-packages (from matplotlib>=1.5.1->mlxtend) (2.6.1)\n",
            "Requirement already satisfied: pyparsing!=2.0.4,!=2.1.2,!=2.1.6,>=2.0.1 in /usr/local/lib/python3.6/dist-packages (from matplotlib>=1.5.1->mlxtend) (2.4.5)\n",
            "Requirement already satisfied: cycler>=0.10 in /usr/local/lib/python3.6/dist-packages (from matplotlib>=1.5.1->mlxtend) (0.10.0)\n",
            "Requirement already satisfied: pytz>=2017.2 in /usr/local/lib/python3.6/dist-packages (from pandas>=0.17.1->mlxtend) (2018.9)\n",
            "Requirement already satisfied: six>=1.5 in /usr/local/lib/python3.6/dist-packages (from python-dateutil>=2.1->matplotlib>=1.5.1->mlxtend) (1.12.0)\n"
          ],
          "name": "stdout"
        }
      ]
    },
    {
      "cell_type": "code",
      "metadata": {
        "id": "l47lNKjtdyu0",
        "colab_type": "code",
        "colab": {}
      },
      "source": [
        "import mlxtend\n",
        "from mlxtend.plotting import plot_confusion_matrix"
      ],
      "execution_count": 0,
      "outputs": []
    },
    {
      "cell_type": "code",
      "metadata": {
        "id": "5BieDjiCeVbI",
        "colab_type": "code",
        "outputId": "fddeb5a0-c712-45f3-904f-f6ba2ae90fe1",
        "colab": {
          "base_uri": "https://localhost:8080/",
          "height": 51
        }
      },
      "source": [
        "X, y = get_image_data(\"/content/drive/My Drive/data_used/\")"
      ],
      "execution_count": 65,
      "outputs": [
        {
          "output_type": "stream",
          "text": [
            "100%|██████████| 4500/4500 [00:24<00:00, 183.98it/s]\n",
            "100%|██████████| 3000/3000 [00:15<00:00, 194.31it/s]\n"
          ],
          "name": "stderr"
        }
      ]
    },
    {
      "cell_type": "code",
      "metadata": {
        "id": "vpG4UIXLhKQe",
        "colab_type": "code",
        "colab": {}
      },
      "source": [
        "def shuffle_data(X_shu, y_shu):\n",
        "    #X_shu=np.asarray(X_shu)\n",
        "    #y_shu=np.asarray(y_shu)\n",
        "    split = s_split(n_splits= 1, test_size = 0.15, random_state=18)\n",
        "    X_train = []\n",
        "    y_train = []\n",
        "    X_test = []\n",
        "    y_test = []\n",
        "    for train_id, test_id in split.split(X_shu, y_shu):\n",
        "        X_train.append(X_shu[train_id])\n",
        "        y_train.append(y_shu[train_id])\n",
        "        X_test.append(X_shu[test_id])\n",
        "        y_test.append(y_shu[test_id])\n",
        "    #del X_shu\n",
        "    #del y_shu\n",
        "    return X_train, y_train, X_test, y_test"
      ],
      "execution_count": 0,
      "outputs": []
    },
    {
      "cell_type": "code",
      "metadata": {
        "id": "ipraPwv-hQ1L",
        "colab_type": "code",
        "colab": {}
      },
      "source": [
        "X_train, y_train, X_test, y_test = shuffle_data(X,y)\n",
        "X_train = np.asarray(X_train, dtype = \"float32\")[0]\n",
        "X_test = np.asarray(X_test, dtype = \"float32\")[0]\n",
        "y_train = np.asarray(y_train)[0]\n",
        "y_test = np.asarray(y_test)[0]"
      ],
      "execution_count": 0,
      "outputs": []
    },
    {
      "cell_type": "code",
      "metadata": {
        "id": "2ux309C_hTjc",
        "colab_type": "code",
        "colab": {}
      },
      "source": [
        "X_train /= 255\n",
        "X_test /= 255"
      ],
      "execution_count": 0,
      "outputs": []
    },
    {
      "cell_type": "code",
      "metadata": {
        "id": "E59gZbTchWBP",
        "colab_type": "code",
        "colab": {}
      },
      "source": [
        "y_test = to_categorical(y_test,2)\n",
        "y_train = to_categorical(y_train,2)"
      ],
      "execution_count": 0,
      "outputs": []
    },
    {
      "cell_type": "code",
      "metadata": {
        "id": "_vgueJyrhY6i",
        "colab_type": "code",
        "colab": {
          "base_uri": "https://localhost:8080/",
          "height": 34
        },
        "outputId": "65afa406-3adb-4007-cb09-e9afd74241ab"
      },
      "source": [
        "X_test.shape"
      ],
      "execution_count": 42,
      "outputs": [
        {
          "output_type": "execute_result",
          "data": {
            "text/plain": [
              "(1125, 100, 100, 7)"
            ]
          },
          "metadata": {
            "tags": []
          },
          "execution_count": 42
        }
      ]
    },
    {
      "cell_type": "code",
      "metadata": {
        "id": "tGYCtzRyhc3E",
        "colab_type": "code",
        "colab": {
          "base_uri": "https://localhost:8080/",
          "height": 139
        },
        "outputId": "cbbfa7b7-baa8-4c04-8a95-3480ac01e564"
      },
      "source": [
        "BE.clear_session()"
      ],
      "execution_count": 43,
      "outputs": [
        {
          "output_type": "stream",
          "text": [
            "WARNING:tensorflow:From /usr/local/lib/python3.6/dist-packages/keras/backend/tensorflow_backend.py:107: The name tf.reset_default_graph is deprecated. Please use tf.compat.v1.reset_default_graph instead.\n",
            "\n",
            "WARNING:tensorflow:From /usr/local/lib/python3.6/dist-packages/keras/backend/tensorflow_backend.py:111: The name tf.placeholder_with_default is deprecated. Please use tf.compat.v1.placeholder_with_default instead.\n",
            "\n",
            "WARNING:tensorflow:From /usr/local/lib/python3.6/dist-packages/keras/backend/tensorflow_backend.py:66: The name tf.get_default_graph is deprecated. Please use tf.compat.v1.get_default_graph instead.\n",
            "\n"
          ],
          "name": "stdout"
        }
      ]
    },
    {
      "cell_type": "code",
      "metadata": {
        "id": "RtcQQ9_ohg2V",
        "colab_type": "code",
        "colab": {}
      },
      "source": [
        "def residual_block(mod_, f_in, f_out, strides_ = (1,1), use_shortcut_ = False):   \n",
        "    shortcut_ = mod_\n",
        "    \n",
        "    k_ = (1,1)\n",
        "    \n",
        "    mod_ = Conv2D(f_in, kernel_size=k_, strides=(1,1), padding = \"same\")(mod_)\n",
        "    mod_ = BatchNormalization()(mod_)\n",
        "    mod_ = ELU()(mod_)\n",
        "    \n",
        "    mod_ = Conv2D(f_in, kernel_size=k_, strides=strides_, padding = \"same\")(mod_)\n",
        "    mod_ = BatchNormalization()(mod_)\n",
        "    mod_ = ELU()(mod_)\n",
        "    \n",
        "    mod_ = Conv2D(f_out, kernel_size=k_, strides=(1,1), padding = \"same\")(mod_)\n",
        "    mod_ = BatchNormalization()(mod_)\n",
        "    mod_ = ELU()(mod_)\n",
        "    \n",
        "    if use_shortcut_ == True or strides_ != (1,1):\n",
        "        shortcut_ = Conv2D(f_out, kernel_size=k_, strides=strides_, padding = \"same\")(shortcut_)\n",
        "        shortcut_ = BatchNormalization()(shortcut_)\n",
        "        \n",
        "    mod_ = Add()([shortcut_, mod_])\n",
        "    mod_ = ReLU()(mod_)\n",
        "    \n",
        "    return mod_"
      ],
      "execution_count": 0,
      "outputs": []
    },
    {
      "cell_type": "code",
      "metadata": {
        "id": "WvDq5e3Lhj7S",
        "colab_type": "code",
        "colab": {}
      },
      "source": [
        "def model_build(in_):\n",
        "    \n",
        "    k_=(1,1)\n",
        "    \n",
        "    mod_ = Conv2D(16, kernel_size=k_, strides = (1,1), padding = \"same\")(in_)\n",
        "    \n",
        "    mod_ = BatchNormalization()(mod_)\n",
        "    \n",
        "    mod_ = ReLU()(mod_)\n",
        "    \n",
        "    mod_ = MaxPooling2D()(mod_)\n",
        "    \n",
        "    mod_ = residual_block(mod_, 16, 32, use_shortcut_=True)\n",
        "    \n",
        "    mod_ = MaxPooling2D()(mod_)\n",
        "    \n",
        "    mod_ = residual_block(mod_, 32, 64, use_shortcut_=True)\n",
        "    \n",
        "    mod_ = MaxPooling2D()(mod_)\n",
        "    \n",
        "    mod_ = residual_block(mod_, 64, 96, use_shortcut_=True)\n",
        "    \n",
        "    mod_ = MaxPooling2D()(mod_)\n",
        "    \n",
        "    mod_ = residual_block(mod_, 96, 128, use_shortcut_=True)\n",
        "    \n",
        "    mod_ = MaxPooling2D()(mod_)\n",
        "    \n",
        "    mod_ = GlobalAveragePooling2D()(mod_)\n",
        "    \n",
        "    mod_ = Dense(512, activation = \"relu\")(mod_)\n",
        "    \n",
        "    mod_ = Dropout(0.5)(mod_)\n",
        "    \n",
        "    mod_ = Dense(2, activation=\"softmax\")(mod_)\n",
        "    \n",
        "    return mod_"
      ],
      "execution_count": 0,
      "outputs": []
    },
    {
      "cell_type": "code",
      "metadata": {
        "id": "0tUGBWhxhnlq",
        "colab_type": "code",
        "colab": {
          "base_uri": "https://localhost:8080/",
          "height": 428
        },
        "outputId": "ff5d8d05-9ff0-4de0-ec52-a3f350dd61cf"
      },
      "source": [
        "in_ = Input((100,100,7))\n",
        "model = model_build(in_)"
      ],
      "execution_count": 46,
      "outputs": [
        {
          "output_type": "stream",
          "text": [
            "WARNING:tensorflow:From /usr/local/lib/python3.6/dist-packages/keras/backend/tensorflow_backend.py:541: The name tf.placeholder is deprecated. Please use tf.compat.v1.placeholder instead.\n",
            "\n",
            "WARNING:tensorflow:From /usr/local/lib/python3.6/dist-packages/keras/backend/tensorflow_backend.py:4432: The name tf.random_uniform is deprecated. Please use tf.random.uniform instead.\n",
            "\n",
            "WARNING:tensorflow:From /usr/local/lib/python3.6/dist-packages/keras/backend/tensorflow_backend.py:190: The name tf.get_default_session is deprecated. Please use tf.compat.v1.get_default_session instead.\n",
            "\n",
            "WARNING:tensorflow:From /usr/local/lib/python3.6/dist-packages/keras/backend/tensorflow_backend.py:197: The name tf.ConfigProto is deprecated. Please use tf.compat.v1.ConfigProto instead.\n",
            "\n",
            "WARNING:tensorflow:From /usr/local/lib/python3.6/dist-packages/keras/backend/tensorflow_backend.py:203: The name tf.Session is deprecated. Please use tf.compat.v1.Session instead.\n",
            "\n",
            "WARNING:tensorflow:From /usr/local/lib/python3.6/dist-packages/keras/backend/tensorflow_backend.py:207: The name tf.global_variables is deprecated. Please use tf.compat.v1.global_variables instead.\n",
            "\n",
            "WARNING:tensorflow:From /usr/local/lib/python3.6/dist-packages/keras/backend/tensorflow_backend.py:216: The name tf.is_variable_initialized is deprecated. Please use tf.compat.v1.is_variable_initialized instead.\n",
            "\n",
            "WARNING:tensorflow:From /usr/local/lib/python3.6/dist-packages/keras/backend/tensorflow_backend.py:223: The name tf.variables_initializer is deprecated. Please use tf.compat.v1.variables_initializer instead.\n",
            "\n",
            "WARNING:tensorflow:From /usr/local/lib/python3.6/dist-packages/keras/backend/tensorflow_backend.py:2041: The name tf.nn.fused_batch_norm is deprecated. Please use tf.compat.v1.nn.fused_batch_norm instead.\n",
            "\n",
            "WARNING:tensorflow:From /usr/local/lib/python3.6/dist-packages/keras/backend/tensorflow_backend.py:4267: The name tf.nn.max_pool is deprecated. Please use tf.nn.max_pool2d instead.\n",
            "\n",
            "WARNING:tensorflow:From /usr/local/lib/python3.6/dist-packages/keras/backend/tensorflow_backend.py:3733: calling dropout (from tensorflow.python.ops.nn_ops) with keep_prob is deprecated and will be removed in a future version.\n",
            "Instructions for updating:\n",
            "Please use `rate` instead of `keep_prob`. Rate should be set to `rate = 1 - keep_prob`.\n"
          ],
          "name": "stdout"
        }
      ]
    },
    {
      "cell_type": "code",
      "metadata": {
        "id": "rdAP5Xtohsry",
        "colab_type": "code",
        "colab": {
          "base_uri": "https://localhost:8080/",
          "height": 71
        },
        "outputId": "60b79258-ff74-4ac7-9887-e90667330ecf"
      },
      "source": [
        "model_f = Model(input = in_, output = model)"
      ],
      "execution_count": 47,
      "outputs": [
        {
          "output_type": "stream",
          "text": [
            "/usr/local/lib/python3.6/dist-packages/ipykernel_launcher.py:1: UserWarning: Update your `Model` call to the Keras 2 API: `Model(inputs=Tensor(\"in..., outputs=Tensor(\"de...)`\n",
            "  \"\"\"Entry point for launching an IPython kernel.\n"
          ],
          "name": "stderr"
        }
      ]
    },
    {
      "cell_type": "code",
      "metadata": {
        "id": "ZJH-V8ohh__t",
        "colab_type": "code",
        "colab": {
          "base_uri": "https://localhost:8080/",
          "height": 1000
        },
        "outputId": "b53fb0b0-66dc-4202-965e-e12691a9ea4f"
      },
      "source": [
        "model_f.compile(optimizer = RMSprop(), loss = \"binary_crossentropy\", metrics=[\"accuracy\"])\n",
        "model_f.summary()"
      ],
      "execution_count": 48,
      "outputs": [
        {
          "output_type": "stream",
          "text": [
            "WARNING:tensorflow:From /usr/local/lib/python3.6/dist-packages/keras/optimizers.py:793: The name tf.train.Optimizer is deprecated. Please use tf.compat.v1.train.Optimizer instead.\n",
            "\n",
            "WARNING:tensorflow:From /usr/local/lib/python3.6/dist-packages/keras/backend/tensorflow_backend.py:3657: The name tf.log is deprecated. Please use tf.math.log instead.\n",
            "\n",
            "WARNING:tensorflow:From /usr/local/lib/python3.6/dist-packages/tensorflow_core/python/ops/nn_impl.py:183: where (from tensorflow.python.ops.array_ops) is deprecated and will be removed in a future version.\n",
            "Instructions for updating:\n",
            "Use tf.where in 2.0, which has the same broadcast rule as np.where\n",
            "Model: \"model_1\"\n",
            "__________________________________________________________________________________________________\n",
            "Layer (type)                    Output Shape         Param #     Connected to                     \n",
            "==================================================================================================\n",
            "input_1 (InputLayer)            (None, 100, 100, 7)  0                                            \n",
            "__________________________________________________________________________________________________\n",
            "conv2d_1 (Conv2D)               (None, 100, 100, 16) 128         input_1[0][0]                    \n",
            "__________________________________________________________________________________________________\n",
            "batch_normalization_1 (BatchNor (None, 100, 100, 16) 64          conv2d_1[0][0]                   \n",
            "__________________________________________________________________________________________________\n",
            "re_lu_1 (ReLU)                  (None, 100, 100, 16) 0           batch_normalization_1[0][0]      \n",
            "__________________________________________________________________________________________________\n",
            "max_pooling2d_1 (MaxPooling2D)  (None, 50, 50, 16)   0           re_lu_1[0][0]                    \n",
            "__________________________________________________________________________________________________\n",
            "conv2d_2 (Conv2D)               (None, 50, 50, 16)   272         max_pooling2d_1[0][0]            \n",
            "__________________________________________________________________________________________________\n",
            "batch_normalization_2 (BatchNor (None, 50, 50, 16)   64          conv2d_2[0][0]                   \n",
            "__________________________________________________________________________________________________\n",
            "elu_1 (ELU)                     (None, 50, 50, 16)   0           batch_normalization_2[0][0]      \n",
            "__________________________________________________________________________________________________\n",
            "conv2d_3 (Conv2D)               (None, 50, 50, 16)   272         elu_1[0][0]                      \n",
            "__________________________________________________________________________________________________\n",
            "batch_normalization_3 (BatchNor (None, 50, 50, 16)   64          conv2d_3[0][0]                   \n",
            "__________________________________________________________________________________________________\n",
            "elu_2 (ELU)                     (None, 50, 50, 16)   0           batch_normalization_3[0][0]      \n",
            "__________________________________________________________________________________________________\n",
            "conv2d_4 (Conv2D)               (None, 50, 50, 32)   544         elu_2[0][0]                      \n",
            "__________________________________________________________________________________________________\n",
            "conv2d_5 (Conv2D)               (None, 50, 50, 32)   544         max_pooling2d_1[0][0]            \n",
            "__________________________________________________________________________________________________\n",
            "batch_normalization_4 (BatchNor (None, 50, 50, 32)   128         conv2d_4[0][0]                   \n",
            "__________________________________________________________________________________________________\n",
            "batch_normalization_5 (BatchNor (None, 50, 50, 32)   128         conv2d_5[0][0]                   \n",
            "__________________________________________________________________________________________________\n",
            "elu_3 (ELU)                     (None, 50, 50, 32)   0           batch_normalization_4[0][0]      \n",
            "__________________________________________________________________________________________________\n",
            "add_1 (Add)                     (None, 50, 50, 32)   0           batch_normalization_5[0][0]      \n",
            "                                                                 elu_3[0][0]                      \n",
            "__________________________________________________________________________________________________\n",
            "re_lu_2 (ReLU)                  (None, 50, 50, 32)   0           add_1[0][0]                      \n",
            "__________________________________________________________________________________________________\n",
            "max_pooling2d_2 (MaxPooling2D)  (None, 25, 25, 32)   0           re_lu_2[0][0]                    \n",
            "__________________________________________________________________________________________________\n",
            "conv2d_6 (Conv2D)               (None, 25, 25, 32)   1056        max_pooling2d_2[0][0]            \n",
            "__________________________________________________________________________________________________\n",
            "batch_normalization_6 (BatchNor (None, 25, 25, 32)   128         conv2d_6[0][0]                   \n",
            "__________________________________________________________________________________________________\n",
            "elu_4 (ELU)                     (None, 25, 25, 32)   0           batch_normalization_6[0][0]      \n",
            "__________________________________________________________________________________________________\n",
            "conv2d_7 (Conv2D)               (None, 25, 25, 32)   1056        elu_4[0][0]                      \n",
            "__________________________________________________________________________________________________\n",
            "batch_normalization_7 (BatchNor (None, 25, 25, 32)   128         conv2d_7[0][0]                   \n",
            "__________________________________________________________________________________________________\n",
            "elu_5 (ELU)                     (None, 25, 25, 32)   0           batch_normalization_7[0][0]      \n",
            "__________________________________________________________________________________________________\n",
            "conv2d_8 (Conv2D)               (None, 25, 25, 64)   2112        elu_5[0][0]                      \n",
            "__________________________________________________________________________________________________\n",
            "conv2d_9 (Conv2D)               (None, 25, 25, 64)   2112        max_pooling2d_2[0][0]            \n",
            "__________________________________________________________________________________________________\n",
            "batch_normalization_8 (BatchNor (None, 25, 25, 64)   256         conv2d_8[0][0]                   \n",
            "__________________________________________________________________________________________________\n",
            "batch_normalization_9 (BatchNor (None, 25, 25, 64)   256         conv2d_9[0][0]                   \n",
            "__________________________________________________________________________________________________\n",
            "elu_6 (ELU)                     (None, 25, 25, 64)   0           batch_normalization_8[0][0]      \n",
            "__________________________________________________________________________________________________\n",
            "add_2 (Add)                     (None, 25, 25, 64)   0           batch_normalization_9[0][0]      \n",
            "                                                                 elu_6[0][0]                      \n",
            "__________________________________________________________________________________________________\n",
            "re_lu_3 (ReLU)                  (None, 25, 25, 64)   0           add_2[0][0]                      \n",
            "__________________________________________________________________________________________________\n",
            "max_pooling2d_3 (MaxPooling2D)  (None, 12, 12, 64)   0           re_lu_3[0][0]                    \n",
            "__________________________________________________________________________________________________\n",
            "conv2d_10 (Conv2D)              (None, 12, 12, 64)   4160        max_pooling2d_3[0][0]            \n",
            "__________________________________________________________________________________________________\n",
            "batch_normalization_10 (BatchNo (None, 12, 12, 64)   256         conv2d_10[0][0]                  \n",
            "__________________________________________________________________________________________________\n",
            "elu_7 (ELU)                     (None, 12, 12, 64)   0           batch_normalization_10[0][0]     \n",
            "__________________________________________________________________________________________________\n",
            "conv2d_11 (Conv2D)              (None, 12, 12, 64)   4160        elu_7[0][0]                      \n",
            "__________________________________________________________________________________________________\n",
            "batch_normalization_11 (BatchNo (None, 12, 12, 64)   256         conv2d_11[0][0]                  \n",
            "__________________________________________________________________________________________________\n",
            "elu_8 (ELU)                     (None, 12, 12, 64)   0           batch_normalization_11[0][0]     \n",
            "__________________________________________________________________________________________________\n",
            "conv2d_12 (Conv2D)              (None, 12, 12, 96)   6240        elu_8[0][0]                      \n",
            "__________________________________________________________________________________________________\n",
            "conv2d_13 (Conv2D)              (None, 12, 12, 96)   6240        max_pooling2d_3[0][0]            \n",
            "__________________________________________________________________________________________________\n",
            "batch_normalization_12 (BatchNo (None, 12, 12, 96)   384         conv2d_12[0][0]                  \n",
            "__________________________________________________________________________________________________\n",
            "batch_normalization_13 (BatchNo (None, 12, 12, 96)   384         conv2d_13[0][0]                  \n",
            "__________________________________________________________________________________________________\n",
            "elu_9 (ELU)                     (None, 12, 12, 96)   0           batch_normalization_12[0][0]     \n",
            "__________________________________________________________________________________________________\n",
            "add_3 (Add)                     (None, 12, 12, 96)   0           batch_normalization_13[0][0]     \n",
            "                                                                 elu_9[0][0]                      \n",
            "__________________________________________________________________________________________________\n",
            "re_lu_4 (ReLU)                  (None, 12, 12, 96)   0           add_3[0][0]                      \n",
            "__________________________________________________________________________________________________\n",
            "max_pooling2d_4 (MaxPooling2D)  (None, 6, 6, 96)     0           re_lu_4[0][0]                    \n",
            "__________________________________________________________________________________________________\n",
            "conv2d_14 (Conv2D)              (None, 6, 6, 96)     9312        max_pooling2d_4[0][0]            \n",
            "__________________________________________________________________________________________________\n",
            "batch_normalization_14 (BatchNo (None, 6, 6, 96)     384         conv2d_14[0][0]                  \n",
            "__________________________________________________________________________________________________\n",
            "elu_10 (ELU)                    (None, 6, 6, 96)     0           batch_normalization_14[0][0]     \n",
            "__________________________________________________________________________________________________\n",
            "conv2d_15 (Conv2D)              (None, 6, 6, 96)     9312        elu_10[0][0]                     \n",
            "__________________________________________________________________________________________________\n",
            "batch_normalization_15 (BatchNo (None, 6, 6, 96)     384         conv2d_15[0][0]                  \n",
            "__________________________________________________________________________________________________\n",
            "elu_11 (ELU)                    (None, 6, 6, 96)     0           batch_normalization_15[0][0]     \n",
            "__________________________________________________________________________________________________\n",
            "conv2d_16 (Conv2D)              (None, 6, 6, 128)    12416       elu_11[0][0]                     \n",
            "__________________________________________________________________________________________________\n",
            "conv2d_17 (Conv2D)              (None, 6, 6, 128)    12416       max_pooling2d_4[0][0]            \n",
            "__________________________________________________________________________________________________\n",
            "batch_normalization_16 (BatchNo (None, 6, 6, 128)    512         conv2d_16[0][0]                  \n",
            "__________________________________________________________________________________________________\n",
            "batch_normalization_17 (BatchNo (None, 6, 6, 128)    512         conv2d_17[0][0]                  \n",
            "__________________________________________________________________________________________________\n",
            "elu_12 (ELU)                    (None, 6, 6, 128)    0           batch_normalization_16[0][0]     \n",
            "__________________________________________________________________________________________________\n",
            "add_4 (Add)                     (None, 6, 6, 128)    0           batch_normalization_17[0][0]     \n",
            "                                                                 elu_12[0][0]                     \n",
            "__________________________________________________________________________________________________\n",
            "re_lu_5 (ReLU)                  (None, 6, 6, 128)    0           add_4[0][0]                      \n",
            "__________________________________________________________________________________________________\n",
            "max_pooling2d_5 (MaxPooling2D)  (None, 3, 3, 128)    0           re_lu_5[0][0]                    \n",
            "__________________________________________________________________________________________________\n",
            "global_average_pooling2d_1 (Glo (None, 128)          0           max_pooling2d_5[0][0]            \n",
            "__________________________________________________________________________________________________\n",
            "dense_1 (Dense)                 (None, 512)          66048       global_average_pooling2d_1[0][0] \n",
            "__________________________________________________________________________________________________\n",
            "dropout_1 (Dropout)             (None, 512)          0           dense_1[0][0]                    \n",
            "__________________________________________________________________________________________________\n",
            "dense_2 (Dense)                 (None, 2)            1026        dropout_1[0][0]                  \n",
            "==================================================================================================\n",
            "Total params: 143,714\n",
            "Trainable params: 141,570\n",
            "Non-trainable params: 2,144\n",
            "__________________________________________________________________________________________________\n"
          ],
          "name": "stdout"
        }
      ]
    },
    {
      "cell_type": "code",
      "metadata": {
        "id": "rdcOXhmfiNIh",
        "colab_type": "code",
        "colab": {
          "base_uri": "https://localhost:8080/",
          "height": 71
        },
        "outputId": "9332a433-0039-4476-dc85-2069b59a5b33"
      },
      "source": [
        "nb_epochs = 50\n",
        "nb_batch = 20\n",
        "\n",
        "earlyStopping=EarlyStopping(monitor='val_loss', patience=5, verbose=0, mode='auto')\n",
        "\n",
        "lr_reduce = ReduceLROnPlateau(monitor='val_acc', factor=0.1, epsilon=0.0001, patience=2, verbose=1)\n",
        "\n",
        "save_path=\"weights/res5_7x7_BGR_l_h_s_a_clahe_20_blur_new_fur_fur_fur_reddata_ELU_acti_convo_test_lastelu.h5\"\n",
        "\n",
        "checkpoint = ModelCheckpoint(save_path, monitor='val_acc', verbose=1, save_best_only=True, mode='max')"
      ],
      "execution_count": 49,
      "outputs": [
        {
          "output_type": "stream",
          "text": [
            "/usr/local/lib/python3.6/dist-packages/keras/callbacks.py:1335: UserWarning: `epsilon` argument is deprecated and will be removed, use `min_delta` instead.\n",
            "  warnings.warn('`epsilon` argument is deprecated and '\n"
          ],
          "name": "stderr"
        }
      ]
    },
    {
      "cell_type": "code",
      "metadata": {
        "id": "75_GdjUGiRxl",
        "colab_type": "code",
        "colab": {
          "base_uri": "https://localhost:8080/",
          "height": 1000
        },
        "outputId": "4a3e25b9-a4c4-48d2-90c9-852700d41b13"
      },
      "source": [
        "history=model_f.fit(X_train, y_train, epochs = nb_epochs, batch_size = nb_batch, callbacks=[earlyStopping, lr_reduce, checkpoint], validation_data=(X_test, y_test), verbose = 2)"
      ],
      "execution_count": 50,
      "outputs": [
        {
          "output_type": "stream",
          "text": [
            "WARNING:tensorflow:From /usr/local/lib/python3.6/dist-packages/keras/backend/tensorflow_backend.py:1033: The name tf.assign_add is deprecated. Please use tf.compat.v1.assign_add instead.\n",
            "\n",
            "WARNING:tensorflow:From /usr/local/lib/python3.6/dist-packages/keras/backend/tensorflow_backend.py:1020: The name tf.assign is deprecated. Please use tf.compat.v1.assign instead.\n",
            "\n",
            "Train on 6375 samples, validate on 1125 samples\n",
            "Epoch 1/50\n",
            " - 18s - loss: 0.1996 - acc: 0.9299 - val_loss: 0.3285 - val_acc: 0.9102\n",
            "\n",
            "Epoch 00001: val_acc improved from -inf to 0.91022, saving model to weights/res5_7x7_BGR_l_h_s_a_clahe_20_blur_new_fur_fur_fur_reddata_ELU_acti_convo_test_lastelu.h5\n",
            "Epoch 2/50\n",
            " - 12s - loss: 0.1322 - acc: 0.9556 - val_loss: 0.0932 - val_acc: 0.9671\n",
            "\n",
            "Epoch 00002: val_acc improved from 0.91022 to 0.96711, saving model to weights/res5_7x7_BGR_l_h_s_a_clahe_20_blur_new_fur_fur_fur_reddata_ELU_acti_convo_test_lastelu.h5\n",
            "Epoch 3/50\n",
            " - 12s - loss: 0.1093 - acc: 0.9652 - val_loss: 0.1318 - val_acc: 0.9573\n",
            "\n",
            "Epoch 00003: val_acc did not improve from 0.96711\n",
            "Epoch 4/50\n",
            " - 12s - loss: 0.1053 - acc: 0.9667 - val_loss: 0.1502 - val_acc: 0.9556\n",
            "\n",
            "Epoch 00004: ReduceLROnPlateau reducing learning rate to 0.00010000000474974513.\n",
            "\n",
            "Epoch 00004: val_acc did not improve from 0.96711\n",
            "Epoch 5/50\n",
            " - 12s - loss: 0.0641 - acc: 0.9774 - val_loss: 0.0468 - val_acc: 0.9867\n",
            "\n",
            "Epoch 00005: val_acc improved from 0.96711 to 0.98667, saving model to weights/res5_7x7_BGR_l_h_s_a_clahe_20_blur_new_fur_fur_fur_reddata_ELU_acti_convo_test_lastelu.h5\n",
            "Epoch 6/50\n",
            " - 12s - loss: 0.0451 - acc: 0.9860 - val_loss: 0.0519 - val_acc: 0.9884\n",
            "\n",
            "Epoch 00006: val_acc improved from 0.98667 to 0.98844, saving model to weights/res5_7x7_BGR_l_h_s_a_clahe_20_blur_new_fur_fur_fur_reddata_ELU_acti_convo_test_lastelu.h5\n",
            "Epoch 7/50\n",
            " - 12s - loss: 0.0504 - acc: 0.9854 - val_loss: 0.0438 - val_acc: 0.9867\n",
            "\n",
            "Epoch 00007: val_acc did not improve from 0.98844\n",
            "Epoch 8/50\n",
            " - 12s - loss: 0.0427 - acc: 0.9870 - val_loss: 0.0548 - val_acc: 0.9858\n",
            "\n",
            "Epoch 00008: ReduceLROnPlateau reducing learning rate to 1.0000000474974514e-05.\n",
            "\n",
            "Epoch 00008: val_acc did not improve from 0.98844\n",
            "Epoch 9/50\n",
            " - 12s - loss: 0.0310 - acc: 0.9893 - val_loss: 0.0426 - val_acc: 0.9876\n",
            "\n",
            "Epoch 00009: val_acc did not improve from 0.98844\n",
            "Epoch 10/50\n",
            " - 12s - loss: 0.0363 - acc: 0.9885 - val_loss: 0.0424 - val_acc: 0.9876\n",
            "\n",
            "Epoch 00010: ReduceLROnPlateau reducing learning rate to 1.0000000656873453e-06.\n",
            "\n",
            "Epoch 00010: val_acc did not improve from 0.98844\n",
            "Epoch 11/50\n",
            " - 12s - loss: 0.0406 - acc: 0.9875 - val_loss: 0.0422 - val_acc: 0.9884\n",
            "\n",
            "Epoch 00011: val_acc did not improve from 0.98844\n",
            "Epoch 12/50\n",
            " - 12s - loss: 0.0365 - acc: 0.9870 - val_loss: 0.0421 - val_acc: 0.9876\n",
            "\n",
            "Epoch 00012: ReduceLROnPlateau reducing learning rate to 1.0000001111620805e-07.\n",
            "\n",
            "Epoch 00012: val_acc did not improve from 0.98844\n",
            "Epoch 13/50\n",
            " - 12s - loss: 0.0306 - acc: 0.9889 - val_loss: 0.0421 - val_acc: 0.9876\n",
            "\n",
            "Epoch 00013: val_acc did not improve from 0.98844\n",
            "Epoch 14/50\n",
            " - 12s - loss: 0.0370 - acc: 0.9873 - val_loss: 0.0419 - val_acc: 0.9893\n",
            "\n",
            "Epoch 00014: val_acc improved from 0.98844 to 0.98933, saving model to weights/res5_7x7_BGR_l_h_s_a_clahe_20_blur_new_fur_fur_fur_reddata_ELU_acti_convo_test_lastelu.h5\n",
            "Epoch 15/50\n",
            " - 12s - loss: 0.0361 - acc: 0.9879 - val_loss: 0.0415 - val_acc: 0.9876\n",
            "\n",
            "Epoch 00015: val_acc did not improve from 0.98933\n",
            "Epoch 16/50\n",
            " - 12s - loss: 0.0324 - acc: 0.9890 - val_loss: 0.0418 - val_acc: 0.9884\n",
            "\n",
            "Epoch 00016: ReduceLROnPlateau reducing learning rate to 1.000000082740371e-08.\n",
            "\n",
            "Epoch 00016: val_acc did not improve from 0.98933\n",
            "Epoch 17/50\n",
            " - 12s - loss: 0.0321 - acc: 0.9892 - val_loss: 0.0413 - val_acc: 0.9884\n",
            "\n",
            "Epoch 00017: val_acc did not improve from 0.98933\n",
            "Epoch 18/50\n",
            " - 12s - loss: 0.0325 - acc: 0.9892 - val_loss: 0.0415 - val_acc: 0.9884\n",
            "\n",
            "Epoch 00018: ReduceLROnPlateau reducing learning rate to 1.000000082740371e-09.\n",
            "\n",
            "Epoch 00018: val_acc did not improve from 0.98933\n",
            "Epoch 19/50\n",
            " - 12s - loss: 0.0343 - acc: 0.9892 - val_loss: 0.0419 - val_acc: 0.9876\n",
            "\n",
            "Epoch 00019: val_acc did not improve from 0.98933\n",
            "Epoch 20/50\n",
            " - 12s - loss: 0.0347 - acc: 0.9884 - val_loss: 0.0414 - val_acc: 0.9884\n",
            "\n",
            "Epoch 00020: ReduceLROnPlateau reducing learning rate to 1.000000082740371e-10.\n",
            "\n",
            "Epoch 00020: val_acc did not improve from 0.98933\n",
            "Epoch 21/50\n",
            " - 12s - loss: 0.0356 - acc: 0.9871 - val_loss: 0.0420 - val_acc: 0.9884\n",
            "\n",
            "Epoch 00021: val_acc did not improve from 0.98933\n",
            "Epoch 22/50\n",
            " - 12s - loss: 0.0334 - acc: 0.9890 - val_loss: 0.0418 - val_acc: 0.9893\n",
            "\n",
            "Epoch 00022: ReduceLROnPlateau reducing learning rate to 1.000000082740371e-11.\n",
            "\n",
            "Epoch 00022: val_acc did not improve from 0.98933\n"
          ],
          "name": "stdout"
        }
      ]
    },
    {
      "cell_type": "code",
      "metadata": {
        "id": "dpwhs1mkiVUO",
        "colab_type": "code",
        "colab": {}
      },
      "source": [
        "with open('history/res4_1x1_BGR_l_h_s_a_clahe_20_blur_new_fur_fur_fur_reddata_ELU_acti_convo_test_lastelu', 'wb') as file_pi:\n",
        "    pickle.dump(history.history, file_pi)"
      ],
      "execution_count": 0,
      "outputs": []
    },
    {
      "cell_type": "code",
      "metadata": {
        "id": "klc5M5fMiYd0",
        "colab_type": "code",
        "colab": {}
      },
      "source": [
        "model_f.load_weights(\"/content/weights/res5_7x7_BGR_l_h_s_a_clahe_20_blur_new_fur_fur_fur_reddata_ELU_acti_convo_test_lastelu.h5\")"
      ],
      "execution_count": 0,
      "outputs": []
    },
    {
      "cell_type": "code",
      "metadata": {
        "id": "u-gp7-Plibui",
        "colab_type": "code",
        "colab": {
          "base_uri": "https://localhost:8080/",
          "height": 34
        },
        "outputId": "fcc6173e-5f1a-4ecf-ccd4-1d49b38f7747"
      },
      "source": [
        "model_f.evaluate(X_test,y_test,verbose=2)"
      ],
      "execution_count": 53,
      "outputs": [
        {
          "output_type": "execute_result",
          "data": {
            "text/plain": [
              "[0.04194416400872999, 0.9893333333333333]"
            ]
          },
          "metadata": {
            "tags": []
          },
          "execution_count": 53
        }
      ]
    },
    {
      "cell_type": "code",
      "metadata": {
        "id": "nFudTbEBiixP",
        "colab_type": "code",
        "colab": {
          "base_uri": "https://localhost:8080/",
          "height": 285
        },
        "outputId": "3359b06c-fc33-4728-d6ff-315db9f4e94b"
      },
      "source": [
        "idx=13\n",
        "plt.imshow(cv2.merge(cv2.split(X_test[idx])[0:3]))"
      ],
      "execution_count": 54,
      "outputs": [
        {
          "output_type": "execute_result",
          "data": {
            "text/plain": [
              "<matplotlib.image.AxesImage at 0x7efe32b9e5c0>"
            ]
          },
          "metadata": {
            "tags": []
          },
          "execution_count": 54
        },
        {
          "output_type": "display_data",
          "data": {
            "image/png": "[encoded data removed]",
            "text/plain": [
              "<Figure size 432x288 with 1 Axes>"
            ]
          },
          "metadata": {
            "tags": []
          }
        }
      ]
    },
    {
      "cell_type": "code",
      "metadata": {
        "id": "S_BUqQleildf",
        "colab_type": "code",
        "colab": {}
      },
      "source": [
        "x = np.expand_dims(X_test[idx], axis=0)"
      ],
      "execution_count": 0,
      "outputs": []
    },
    {
      "cell_type": "code",
      "metadata": {
        "id": "oKYTEo2TinqO",
        "colab_type": "code",
        "colab": {
          "base_uri": "https://localhost:8080/",
          "height": 51
        },
        "outputId": "cae57fe9-7d5a-448d-a802-6e44233d0a6d"
      },
      "source": [
        "model_f.predict(x, verbose=1)[0].argmax(axis=0)"
      ],
      "execution_count": 56,
      "outputs": [
        {
          "output_type": "stream",
          "text": [
            "\r1/1 [==============================] - 0s 464ms/step\n"
          ],
          "name": "stdout"
        },
        {
          "output_type": "execute_result",
          "data": {
            "text/plain": [
              "0"
            ]
          },
          "metadata": {
            "tags": []
          },
          "execution_count": 56
        }
      ]
    },
    {
      "cell_type": "code",
      "metadata": {
        "id": "MRD2M5W9iqFP",
        "colab_type": "code",
        "colab": {
          "base_uri": "https://localhost:8080/",
          "height": 34
        },
        "outputId": "6cd7ec0e-c58f-45ed-b82f-ef748c13c8e4"
      },
      "source": [
        "y_test[idx]"
      ],
      "execution_count": 57,
      "outputs": [
        {
          "output_type": "execute_result",
          "data": {
            "text/plain": [
              "array([1., 0.], dtype=float32)"
            ]
          },
          "metadata": {
            "tags": []
          },
          "execution_count": 57
        }
      ]
    },
    {
      "cell_type": "code",
      "metadata": {
        "id": "36F_JkhVitUt",
        "colab_type": "code",
        "colab": {
          "base_uri": "https://localhost:8080/",
          "height": 285
        },
        "outputId": "92aee5fa-5e8a-47e3-f24c-4b77446475a4"
      },
      "source": [
        "plt.imshow(visualize_cam(model=model_f, layer_idx=utils.find_layer_idx(model_f, 're_lu_4'), filter_indices=None, seed_input=np.asarray(X_test[idx]), penultimate_layer_idx=utils.find_layer_idx(model_f, 'add_3'), \\\n",
        "    backprop_modifier=None, grad_modifier=None))"
      ],
      "execution_count": 58,
      "outputs": [
        {
          "output_type": "execute_result",
          "data": {
            "text/plain": [
              "<matplotlib.image.AxesImage at 0x7efe3267f9e8>"
            ]
          },
          "metadata": {
            "tags": []
          },
          "execution_count": 58
        },
        {
          "output_type": "display_data",
          "data": {
            "image/png": "[encoded data removed]",
            "text/plain": [
              "<Figure size 432x288 with 1 Axes>"
            ]
          },
          "metadata": {
            "tags": []
          }
        }
      ]
    },
    {
      "cell_type": "code",
      "metadata": {
        "id": "y3fz82ORixCp",
        "colab_type": "code",
        "colab": {
          "base_uri": "https://localhost:8080/",
          "height": 285
        },
        "outputId": "7d5002c7-a79b-4cb8-d855-658dab00e924"
      },
      "source": [
        "plt.imshow(visualize_cam(model=model_f, layer_idx=utils.find_layer_idx(model_f, 're_lu_4'), filter_indices=None, seed_input=np.asarray(X_test[idx]), penultimate_layer_idx=utils.find_layer_idx(model_f, 'add_3'), \\\n",
        "    backprop_modifier=None, grad_modifier=None))"
      ],
      "execution_count": 59,
      "outputs": [
        {
          "output_type": "execute_result",
          "data": {
            "text/plain": [
              "<matplotlib.image.AxesImage at 0x7efe32d05048>"
            ]
          },
          "metadata": {
            "tags": []
          },
          "execution_count": 59
        },
        {
          "output_type": "display_data",
          "data": {
            "image/png": "[encoded data removed]",
            "text/plain": [
              "<Figure size 432x288 with 1 Axes>"
            ]
          },
          "metadata": {
            "tags": []
          }
        }
      ]
    },
    {
      "cell_type": "code",
      "metadata": {
        "id": "Nk7sGXv2i2YS",
        "colab_type": "code",
        "colab": {
          "base_uri": "https://localhost:8080/",
          "height": 51
        },
        "outputId": "8d70fc52-7f99-49a8-855e-a1ac4003e90a"
      },
      "source": [
        "y_test_labels = np.argmax(y_test, axis = 1)\n",
        "y_test_pred_incep = np.argmax(model_f.predict(X_test),axis = 1)\n",
        "print(precision_score(y_test_labels, y_test_pred_incep))\n",
        "print(recall_score(y_test_labels, y_test_pred_incep))"
      ],
      "execution_count": 60,
      "outputs": [
        {
          "output_type": "stream",
          "text": [
            "0.9866666666666667\n",
            "0.9866666666666667\n"
          ],
          "name": "stdout"
        }
      ]
    },
    {
      "cell_type": "code",
      "metadata": {
        "id": "-MM_nGL2i7zF",
        "colab_type": "code",
        "colab": {
          "base_uri": "https://localhost:8080/",
          "height": 300
        },
        "outputId": "e0fca0be-90cc-405e-dd04-3636ceb34090"
      },
      "source": [
        "y_pred_probs = model_f.predict([X_test])\n",
        "fpr, tpr, thresholds = roc_curve(y_test_labels, y_pred_probs[:, 1])\n",
        "def plot_roc_curve(fpr, tpr, label = None):\n",
        "    plt.plot(fpr, tpr, linewidth=2, label = label)\n",
        "    plt.plot([0, 1], [0, 1], \"k--\")\n",
        "    plt.axis([0, 1, 0, 1])\n",
        "    plt.xlabel(\"False Positive Rate\")\n",
        "    plt.xlabel(\"True Positive Rate\")\n",
        "\n",
        "plot_roc_curve(fpr, tpr)\n",
        "plt.show()\n",
        "roc_auc_score(y_test_labels,y_pred_probs[:,1])"
      ],
      "execution_count": 61,
      "outputs": [
        {
          "output_type": "display_data",
          "data": {
            "image/png": "[encoded data removed]",
            "text/plain": [
              "<Figure size 432x288 with 1 Axes>"
            ]
          },
          "metadata": {
            "tags": []
          }
        },
        {
          "output_type": "execute_result",
          "data": {
            "text/plain": [
              "0.9981613168724279"
            ]
          },
          "metadata": {
            "tags": []
          },
          "execution_count": 61
        }
      ]
    },
    {
      "cell_type": "code",
      "metadata": {
        "id": "KR4gJmkCi_OP",
        "colab_type": "code",
        "colab": {
          "base_uri": "https://localhost:8080/",
          "height": 34
        },
        "outputId": "ef86934d-8d28-43dd-f453-655588e67cfe"
      },
      "source": [
        "filename = open('/content/history/res4_1x1_BGR_l_h_s_a_clahe_20_blur_new_fur_fur_fur_reddata_ELU_acti_convo_test_lastelu',\"rb\")\n",
        "history = pickle.load(filename)\n",
        "print(history.keys())"
      ],
      "execution_count": 62,
      "outputs": [
        {
          "output_type": "stream",
          "text": [
            "dict_keys(['val_loss', 'val_acc', 'loss', 'acc', 'lr'])\n"
          ],
          "name": "stdout"
        }
      ]
    },
    {
      "cell_type": "code",
      "metadata": {
        "id": "VCkeV8LEjB7J",
        "colab_type": "code",
        "colab": {
          "base_uri": "https://localhost:8080/",
          "height": 295
        },
        "outputId": "b672750f-7ad2-4d96-b99b-85a4bc13208c"
      },
      "source": [
        "plt.plot(history['acc'])\n",
        "plt.plot(history['val_acc'])\n",
        "plt.title('Model accuracy')\n",
        "plt.ylabel('accuracy')\n",
        "plt.xlabel('epoch')\n",
        "plt.legend(['train', 'test'], loc='upper left')\n",
        "plt.show()"
      ],
      "execution_count": 63,
      "outputs": [
        {
          "output_type": "display_data",
          "data": {
            "image/png": "[encoded data removed]",
            "text/plain": [
              "<Figure size 432x288 with 1 Axes>"
            ]
          },
          "metadata": {
            "tags": []
          }
        }
      ]
    },
    {
      "cell_type": "code",
      "metadata": {
        "id": "BCFkyX5DjEcy",
        "colab_type": "code",
        "colab": {
          "base_uri": "https://localhost:8080/",
          "height": 295
        },
        "outputId": "6e692467-0259-4aa5-b54d-0c28af3d9a56"
      },
      "source": [
        "plt.plot(history['loss'])\n",
        "plt.plot(history['val_loss'])\n",
        "plt.title('model loss')\n",
        "plt.ylabel('loss')\n",
        "plt.xlabel('epoch')\n",
        "plt.legend(['train', 'test'], loc='upper left')\n",
        "plt.show()"
      ],
      "execution_count": 64,
      "outputs": [
        {
          "output_type": "display_data",
          "data": {
            "image/png": "[encoded data removed]",
            "text/plain": [
              "<Figure size 432x288 with 1 Axes>"
            ]
          },
          "metadata": {
            "tags": []
          }
        }
      ]
    }
  ]
}