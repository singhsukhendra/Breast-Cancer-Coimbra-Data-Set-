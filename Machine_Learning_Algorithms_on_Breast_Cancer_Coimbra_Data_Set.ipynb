{
  "nbformat": 4,
  "nbformat_minor": 0,
  "metadata": {
    "colab": {
      "name": "Machine Learning Algorithms on Breast Cancer Coimbra Data Set.ipynb",
      "provenance": [],
      "include_colab_link": true
    },
    "kernelspec": {
      "name": "python3",
      "display_name": "Python 3"
    }
  },
  "cells": [
    {
      "cell_type": "markdown",
      "metadata": {
        "id": "view-in-github",
        "colab_type": "text"
      },
      "source": [
        "<a href=\"https://colab.research.google.com/github/singhsukhendra/Breast-Cancer-Coimbra-Data-Set-/blob/master/Machine_Learning_Algorithms_on_Breast_Cancer_Coimbra_Data_Set.ipynb\" target=\"_parent\"><img src=\"https://colab.research.google.com/assets/colab-badge.svg\" alt=\"Open In Colab\"/></a>"
      ]
    },
    {
      "cell_type": "code",
      "metadata": {
        "id": "Nt63EK5jGkGW",
        "colab_type": "code",
        "colab": {}
      },
      "source": [
        "#First import all the libraries needed\n",
        "\n",
        "import numpy as np #for linear algebra\n",
        "import pandas as pd #for chopping, processing\n",
        "import csv #for opening csv files\n",
        "%matplotlib inline \n",
        "import matplotlib.pyplot as plt #for plotting the graphs\n",
        "from sklearn.linear_model import LogisticRegression #for logistic regression\n",
        "from sklearn.pipeline import Pipeline #to assemble steps for cross validation\n",
        "from sklearn.preprocessing import PolynomialFeatures #for all the polynomial features\n",
        "from sklearn import svm #for Support Vector Machines\n",
        "from sklearn.neighbors import NearestNeighbors #for nearest neighbor classifier\n",
        "from sklearn import tree\n",
        "from sklearn.tree import DecisionTreeClassifier #for decision tree classifier\n",
        "from sklearn.naive_bayes import GaussianNB  #for naive bayes classifier\n",
        "from scipy import stats #for statistical info\n",
        "from sklearn.model_selection import train_test_split # to split the data in train and test\n",
        "from sklearn.model_selection import KFold # for cross validation\n",
        "#from sklearn.grid_search import GridSearchCV  # for tuning parameters\n",
        "from sklearn.model_selection import learning_curve, GridSearchCV\n",
        "from sklearn.neighbors import KNeighborsClassifier  #for k-neighbor classifier\n",
        "from sklearn import metrics  # for checking the accuracy \n",
        "from time import time"
      ],
      "execution_count": 0,
      "outputs": []
    },
    {
      "cell_type": "code",
      "metadata": {
        "id": "vsH2RoElHYDO",
        "colab_type": "code",
        "colab": {}
      },
      "source": [
        "data = pd.read_csv(\"dataR2.csv\")"
      ],
      "execution_count": 0,
      "outputs": []
    },
    {
      "cell_type": "code",
      "metadata": {
        "id": "c4cDvdrqH21C",
        "colab_type": "code",
        "colab": {
          "base_uri": "https://localhost:8080/",
          "height": 34
        },
        "outputId": "2c39fba5-1a20-4cd8-dd14-a11537d4a649"
      },
      "source": [
        "data.shape"
      ],
      "execution_count": 28,
      "outputs": [
        {
          "output_type": "execute_result",
          "data": {
            "text/plain": [
              "(116, 10)"
            ]
          },
          "metadata": {
            "tags": []
          },
          "execution_count": 28
        }
      ]
    },
    {
      "cell_type": "code",
      "metadata": {
        "id": "Ifg_hszcN1ce",
        "colab_type": "code",
        "colab": {
          "base_uri": "https://localhost:8080/",
          "height": 102
        },
        "outputId": "d9111a7d-2208-441c-a565-558f0ca20f19"
      },
      "source": [
        "#Description of the dataset\n",
        "\n",
        "#how many cases are included in the dataset\n",
        "length = len(data)\n",
        "#how many features are in the dataset\n",
        "features = data.shape[1]-1\n",
        "\n",
        "# Number of malignant cases\n",
        "malignant = len(data[data['Classification']=='Yes'])\n",
        "\n",
        "#Number of benign cases\n",
        "benign = len(data[data['Classification']=='No'])\n",
        "\n",
        "#Rate of malignant tumors over all cases\n",
        "rate = (float(malignant)/(length))*100\n",
        "\n",
        "print (\"There are \"+ str(len(data))+\" cases in this dataset\")\n",
        "print (\"There are {}\".format(features)+\" features in this dataset\")\n",
        "print (\"There are {}\".format(malignant)+\" cases diagnosed as malignant tumor\")\n",
        "print (\"There are {}\".format(benign)+\" cases diagnosed as benign tumor\")\n",
        "print (\"The percentage of malignant cases is: {:.4f}%\".format(rate))\n"
      ],
      "execution_count": 29,
      "outputs": [
        {
          "output_type": "stream",
          "text": [
            "There are 116 cases in this dataset\n",
            "There are 9 features in this dataset\n",
            "There are 64 cases diagnosed as malignant tumor\n",
            "There are 52 cases diagnosed as benign tumor\n",
            "The percentage of malignant cases is: 55.1724%\n"
          ],
          "name": "stdout"
        }
      ]
    },
    {
      "cell_type": "code",
      "metadata": {
        "id": "1FxG7ybVOoLZ",
        "colab_type": "code",
        "colab": {
          "base_uri": "https://localhost:8080/",
          "height": 34
        },
        "outputId": "ba306b68-93f3-4119-8f07-f42ba90beb4c"
      },
      "source": [
        "data.Classification.unique()"
      ],
      "execution_count": 32,
      "outputs": [
        {
          "output_type": "execute_result",
          "data": {
            "text/plain": [
              "array(['No', 'Yes'], dtype=object)"
            ]
          },
          "metadata": {
            "tags": []
          },
          "execution_count": 32
        }
      ]
    },
    {
      "cell_type": "code",
      "metadata": {
        "id": "qgf-FaE2OxzY",
        "colab_type": "code",
        "colab": {
          "base_uri": "https://localhost:8080/",
          "height": 80
        },
        "outputId": "d1dc65c9-495c-46f8-8794-325d72ae9868"
      },
      "source": [
        "data.head(1)"
      ],
      "execution_count": 33,
      "outputs": [
        {
          "output_type": "execute_result",
          "data": {
            "text/html": [
              "<div>\n",
              "<style scoped>\n",
              "    .dataframe tbody tr th:only-of-type {\n",
              "        vertical-align: middle;\n",
              "    }\n",
              "\n",
              "    .dataframe tbody tr th {\n",
              "        vertical-align: top;\n",
              "    }\n",
              "\n",
              "    .dataframe thead th {\n",
              "        text-align: right;\n",
              "    }\n",
              "</style>\n",
              "<table border=\"1\" class=\"dataframe\">\n",
              "  <thead>\n",
              "    <tr style=\"text-align: right;\">\n",
              "      <th></th>\n",
              "      <th>Age</th>\n",
              "      <th>BMI</th>\n",
              "      <th>Glucose</th>\n",
              "      <th>Insulin</th>\n",
              "      <th>HOMA</th>\n",
              "      <th>Leptin</th>\n",
              "      <th>Adiponectin</th>\n",
              "      <th>Resistin</th>\n",
              "      <th>MCP.1</th>\n",
              "      <th>Classification</th>\n",
              "    </tr>\n",
              "  </thead>\n",
              "  <tbody>\n",
              "    <tr>\n",
              "      <th>0</th>\n",
              "      <td>48</td>\n",
              "      <td>23.5</td>\n",
              "      <td>70</td>\n",
              "      <td>2.707</td>\n",
              "      <td>0.467409</td>\n",
              "      <td>8.8071</td>\n",
              "      <td>9.7024</td>\n",
              "      <td>7.99585</td>\n",
              "      <td>417.114</td>\n",
              "      <td>No</td>\n",
              "    </tr>\n",
              "  </tbody>\n",
              "</table>\n",
              "</div>"
            ],
            "text/plain": [
              "   Age   BMI  Glucose  Insulin      HOMA  Leptin  Adiponectin  Resistin  \\\n",
              "0   48  23.5       70    2.707  0.467409  8.8071       9.7024   7.99585   \n",
              "\n",
              "     MCP.1 Classification  \n",
              "0  417.114             No  "
            ]
          },
          "metadata": {
            "tags": []
          },
          "execution_count": 33
        }
      ]
    },
    {
      "cell_type": "code",
      "metadata": {
        "id": "ROppjvekPkNh",
        "colab_type": "code",
        "colab": {
          "base_uri": "https://localhost:8080/",
          "height": 34
        },
        "outputId": "2d4c53e4-73d5-457a-8023-439b00b2539a"
      },
      "source": [
        "features = list(data.columns[0:9])\n",
        "print (features)"
      ],
      "execution_count": 34,
      "outputs": [
        {
          "output_type": "stream",
          "text": [
            "['Age', 'BMI', 'Glucose', 'Insulin', 'HOMA', 'Leptin', 'Adiponectin', 'Resistin', 'MCP.1']\n"
          ],
          "name": "stdout"
        }
      ]
    },
    {
      "cell_type": "code",
      "metadata": {
        "id": "7JMm4spjPseN",
        "colab_type": "code",
        "colab": {
          "base_uri": "https://localhost:8080/",
          "height": 34
        },
        "outputId": "68646a20-41ad-4df9-dae5-3045ab2f9e37"
      },
      "source": [
        "target = data.columns[9:10]\n",
        "print (target)"
      ],
      "execution_count": 35,
      "outputs": [
        {
          "output_type": "stream",
          "text": [
            "Index(['Classification'], dtype='object')\n"
          ],
          "name": "stdout"
        }
      ]
    },
    {
      "cell_type": "code",
      "metadata": {
        "id": "xtTYo6bZRsmv",
        "colab_type": "code",
        "colab": {}
      },
      "source": [
        "#Now we need to separate the data into feature data and target data\n",
        "X = data[features] #our features that we will use to predict Y\n",
        "Y = data[target] #our dependent variable, the one we are trying to predict from X"
      ],
      "execution_count": 0,
      "outputs": []
    },
    {
      "cell_type": "code",
      "metadata": {
        "id": "AygrC5F2RtZY",
        "colab_type": "code",
        "colab": {
          "base_uri": "https://localhost:8080/",
          "height": 34
        },
        "outputId": "63a396e2-ccb4-4fa3-b8ae-f65f8ed50acd"
      },
      "source": [
        "X.shape"
      ],
      "execution_count": 37,
      "outputs": [
        {
          "output_type": "execute_result",
          "data": {
            "text/plain": [
              "(116, 9)"
            ]
          },
          "metadata": {
            "tags": []
          },
          "execution_count": 37
        }
      ]
    },
    {
      "cell_type": "code",
      "metadata": {
        "id": "lofRCxK9RxOK",
        "colab_type": "code",
        "colab": {
          "base_uri": "https://localhost:8080/",
          "height": 34
        },
        "outputId": "118413a3-6a04-4b36-f0ce-eefa5be112a3"
      },
      "source": [
        "Y.shape"
      ],
      "execution_count": 38,
      "outputs": [
        {
          "output_type": "execute_result",
          "data": {
            "text/plain": [
              "(116, 1)"
            ]
          },
          "metadata": {
            "tags": []
          },
          "execution_count": 38
        }
      ]
    },
    {
      "cell_type": "code",
      "metadata": {
        "id": "KCJE2eIiR1sr",
        "colab_type": "code",
        "colab": {
          "base_uri": "https://localhost:8080/",
          "height": 204
        },
        "outputId": "2e14d547-7979-47e1-c0d6-6a88807d20a0"
      },
      "source": [
        "print (\"\\nFeature values:\")\n",
        "print (X.head(1))\n",
        "print (\"\\nTarget values:\")\n",
        "print (Y.head(1))"
      ],
      "execution_count": 39,
      "outputs": [
        {
          "output_type": "stream",
          "text": [
            "\n",
            "Feature values:\n",
            "   Age   BMI  Glucose  Insulin      HOMA  Leptin  Adiponectin  Resistin  \\\n",
            "0   48  23.5       70    2.707  0.467409  8.8071       9.7024   7.99585   \n",
            "\n",
            "     MCP.1  \n",
            "0  417.114  \n",
            "\n",
            "Target values:\n",
            "  Classification\n",
            "0             No\n"
          ],
          "name": "stdout"
        }
      ]
    },
    {
      "cell_type": "code",
      "metadata": {
        "id": "dFRw9cBSSJ-B",
        "colab_type": "code",
        "colab": {
          "base_uri": "https://localhost:8080/",
          "height": 1000
        },
        "outputId": "174c2e31-a80d-45e6-f66a-b3a945783664"
      },
      "source": [
        "df=pd.DataFrame(data)\n",
        "df"
      ],
      "execution_count": 41,
      "outputs": [
        {
          "output_type": "execute_result",
          "data": {
            "text/html": [
              "<div>\n",
              "<style scoped>\n",
              "    .dataframe tbody tr th:only-of-type {\n",
              "        vertical-align: middle;\n",
              "    }\n",
              "\n",
              "    .dataframe tbody tr th {\n",
              "        vertical-align: top;\n",
              "    }\n",
              "\n",
              "    .dataframe thead th {\n",
              "        text-align: right;\n",
              "    }\n",
              "</style>\n",
              "<table border=\"1\" class=\"dataframe\">\n",
              "  <thead>\n",
              "    <tr style=\"text-align: right;\">\n",
              "      <th></th>\n",
              "      <th>Age</th>\n",
              "      <th>BMI</th>\n",
              "      <th>Glucose</th>\n",
              "      <th>Insulin</th>\n",
              "      <th>HOMA</th>\n",
              "      <th>Leptin</th>\n",
              "      <th>Adiponectin</th>\n",
              "      <th>Resistin</th>\n",
              "      <th>MCP.1</th>\n",
              "      <th>Classification</th>\n",
              "    </tr>\n",
              "  </thead>\n",
              "  <tbody>\n",
              "    <tr>\n",
              "      <th>0</th>\n",
              "      <td>48</td>\n",
              "      <td>23.500000</td>\n",
              "      <td>70</td>\n",
              "      <td>2.707</td>\n",
              "      <td>0.467409</td>\n",
              "      <td>8.8071</td>\n",
              "      <td>9.702400</td>\n",
              "      <td>7.99585</td>\n",
              "      <td>417.114</td>\n",
              "      <td>No</td>\n",
              "    </tr>\n",
              "    <tr>\n",
              "      <th>1</th>\n",
              "      <td>83</td>\n",
              "      <td>20.690495</td>\n",
              "      <td>92</td>\n",
              "      <td>3.115</td>\n",
              "      <td>0.706897</td>\n",
              "      <td>8.8438</td>\n",
              "      <td>5.429285</td>\n",
              "      <td>4.06405</td>\n",
              "      <td>468.786</td>\n",
              "      <td>No</td>\n",
              "    </tr>\n",
              "    <tr>\n",
              "      <th>2</th>\n",
              "      <td>82</td>\n",
              "      <td>23.124670</td>\n",
              "      <td>91</td>\n",
              "      <td>4.498</td>\n",
              "      <td>1.009651</td>\n",
              "      <td>17.9393</td>\n",
              "      <td>22.432040</td>\n",
              "      <td>9.27715</td>\n",
              "      <td>554.697</td>\n",
              "      <td>No</td>\n",
              "    </tr>\n",
              "    <tr>\n",
              "      <th>3</th>\n",
              "      <td>68</td>\n",
              "      <td>21.367521</td>\n",
              "      <td>77</td>\n",
              "      <td>3.226</td>\n",
              "      <td>0.612725</td>\n",
              "      <td>9.8827</td>\n",
              "      <td>7.169560</td>\n",
              "      <td>12.76600</td>\n",
              "      <td>928.220</td>\n",
              "      <td>No</td>\n",
              "    </tr>\n",
              "    <tr>\n",
              "      <th>4</th>\n",
              "      <td>86</td>\n",
              "      <td>21.111111</td>\n",
              "      <td>92</td>\n",
              "      <td>3.549</td>\n",
              "      <td>0.805386</td>\n",
              "      <td>6.6994</td>\n",
              "      <td>4.819240</td>\n",
              "      <td>10.57635</td>\n",
              "      <td>773.920</td>\n",
              "      <td>No</td>\n",
              "    </tr>\n",
              "    <tr>\n",
              "      <th>5</th>\n",
              "      <td>49</td>\n",
              "      <td>22.854458</td>\n",
              "      <td>92</td>\n",
              "      <td>3.226</td>\n",
              "      <td>0.732087</td>\n",
              "      <td>6.8317</td>\n",
              "      <td>13.679750</td>\n",
              "      <td>10.31760</td>\n",
              "      <td>530.410</td>\n",
              "      <td>No</td>\n",
              "    </tr>\n",
              "    <tr>\n",
              "      <th>6</th>\n",
              "      <td>89</td>\n",
              "      <td>22.700000</td>\n",
              "      <td>77</td>\n",
              "      <td>4.690</td>\n",
              "      <td>0.890787</td>\n",
              "      <td>6.9640</td>\n",
              "      <td>5.589865</td>\n",
              "      <td>12.93610</td>\n",
              "      <td>1256.083</td>\n",
              "      <td>No</td>\n",
              "    </tr>\n",
              "    <tr>\n",
              "      <th>7</th>\n",
              "      <td>76</td>\n",
              "      <td>23.800000</td>\n",
              "      <td>118</td>\n",
              "      <td>6.470</td>\n",
              "      <td>1.883201</td>\n",
              "      <td>4.3110</td>\n",
              "      <td>13.251320</td>\n",
              "      <td>5.10420</td>\n",
              "      <td>280.694</td>\n",
              "      <td>No</td>\n",
              "    </tr>\n",
              "    <tr>\n",
              "      <th>8</th>\n",
              "      <td>73</td>\n",
              "      <td>22.000000</td>\n",
              "      <td>97</td>\n",
              "      <td>3.350</td>\n",
              "      <td>0.801543</td>\n",
              "      <td>4.4700</td>\n",
              "      <td>10.358725</td>\n",
              "      <td>6.28445</td>\n",
              "      <td>136.855</td>\n",
              "      <td>No</td>\n",
              "    </tr>\n",
              "    <tr>\n",
              "      <th>9</th>\n",
              "      <td>75</td>\n",
              "      <td>23.000000</td>\n",
              "      <td>83</td>\n",
              "      <td>4.952</td>\n",
              "      <td>1.013839</td>\n",
              "      <td>17.1270</td>\n",
              "      <td>11.578990</td>\n",
              "      <td>7.09130</td>\n",
              "      <td>318.302</td>\n",
              "      <td>No</td>\n",
              "    </tr>\n",
              "    <tr>\n",
              "      <th>10</th>\n",
              "      <td>34</td>\n",
              "      <td>21.470000</td>\n",
              "      <td>78</td>\n",
              "      <td>3.469</td>\n",
              "      <td>0.667436</td>\n",
              "      <td>14.5700</td>\n",
              "      <td>13.110000</td>\n",
              "      <td>6.92000</td>\n",
              "      <td>354.600</td>\n",
              "      <td>No</td>\n",
              "    </tr>\n",
              "    <tr>\n",
              "      <th>11</th>\n",
              "      <td>29</td>\n",
              "      <td>23.010000</td>\n",
              "      <td>82</td>\n",
              "      <td>5.663</td>\n",
              "      <td>1.145436</td>\n",
              "      <td>35.5900</td>\n",
              "      <td>26.720000</td>\n",
              "      <td>4.58000</td>\n",
              "      <td>174.800</td>\n",
              "      <td>No</td>\n",
              "    </tr>\n",
              "    <tr>\n",
              "      <th>12</th>\n",
              "      <td>25</td>\n",
              "      <td>22.860000</td>\n",
              "      <td>82</td>\n",
              "      <td>4.090</td>\n",
              "      <td>0.827271</td>\n",
              "      <td>20.4500</td>\n",
              "      <td>23.670000</td>\n",
              "      <td>5.14000</td>\n",
              "      <td>313.730</td>\n",
              "      <td>No</td>\n",
              "    </tr>\n",
              "    <tr>\n",
              "      <th>13</th>\n",
              "      <td>24</td>\n",
              "      <td>18.670000</td>\n",
              "      <td>88</td>\n",
              "      <td>6.107</td>\n",
              "      <td>1.330000</td>\n",
              "      <td>8.8800</td>\n",
              "      <td>36.060000</td>\n",
              "      <td>6.85000</td>\n",
              "      <td>632.220</td>\n",
              "      <td>No</td>\n",
              "    </tr>\n",
              "    <tr>\n",
              "      <th>14</th>\n",
              "      <td>38</td>\n",
              "      <td>23.340000</td>\n",
              "      <td>75</td>\n",
              "      <td>5.782</td>\n",
              "      <td>1.069670</td>\n",
              "      <td>15.2600</td>\n",
              "      <td>17.950000</td>\n",
              "      <td>9.35000</td>\n",
              "      <td>165.020</td>\n",
              "      <td>No</td>\n",
              "    </tr>\n",
              "    <tr>\n",
              "      <th>15</th>\n",
              "      <td>44</td>\n",
              "      <td>20.760000</td>\n",
              "      <td>86</td>\n",
              "      <td>7.553</td>\n",
              "      <td>1.600000</td>\n",
              "      <td>14.0900</td>\n",
              "      <td>20.320000</td>\n",
              "      <td>7.64000</td>\n",
              "      <td>63.610</td>\n",
              "      <td>No</td>\n",
              "    </tr>\n",
              "    <tr>\n",
              "      <th>16</th>\n",
              "      <td>47</td>\n",
              "      <td>22.030000</td>\n",
              "      <td>84</td>\n",
              "      <td>2.869</td>\n",
              "      <td>0.590000</td>\n",
              "      <td>26.6500</td>\n",
              "      <td>38.040000</td>\n",
              "      <td>3.32000</td>\n",
              "      <td>191.720</td>\n",
              "      <td>No</td>\n",
              "    </tr>\n",
              "    <tr>\n",
              "      <th>17</th>\n",
              "      <td>61</td>\n",
              "      <td>32.038959</td>\n",
              "      <td>85</td>\n",
              "      <td>18.077</td>\n",
              "      <td>3.790144</td>\n",
              "      <td>30.7729</td>\n",
              "      <td>7.780255</td>\n",
              "      <td>13.68392</td>\n",
              "      <td>444.395</td>\n",
              "      <td>No</td>\n",
              "    </tr>\n",
              "    <tr>\n",
              "      <th>18</th>\n",
              "      <td>64</td>\n",
              "      <td>34.529723</td>\n",
              "      <td>95</td>\n",
              "      <td>4.427</td>\n",
              "      <td>1.037394</td>\n",
              "      <td>21.2117</td>\n",
              "      <td>5.462620</td>\n",
              "      <td>6.70188</td>\n",
              "      <td>252.449</td>\n",
              "      <td>No</td>\n",
              "    </tr>\n",
              "    <tr>\n",
              "      <th>19</th>\n",
              "      <td>32</td>\n",
              "      <td>36.512637</td>\n",
              "      <td>87</td>\n",
              "      <td>14.026</td>\n",
              "      <td>3.009980</td>\n",
              "      <td>49.3727</td>\n",
              "      <td>5.100000</td>\n",
              "      <td>17.10223</td>\n",
              "      <td>588.460</td>\n",
              "      <td>No</td>\n",
              "    </tr>\n",
              "    <tr>\n",
              "      <th>20</th>\n",
              "      <td>36</td>\n",
              "      <td>28.576676</td>\n",
              "      <td>86</td>\n",
              "      <td>4.345</td>\n",
              "      <td>0.921719</td>\n",
              "      <td>15.1248</td>\n",
              "      <td>8.600000</td>\n",
              "      <td>9.15390</td>\n",
              "      <td>534.224</td>\n",
              "      <td>No</td>\n",
              "    </tr>\n",
              "    <tr>\n",
              "      <th>21</th>\n",
              "      <td>34</td>\n",
              "      <td>31.975015</td>\n",
              "      <td>87</td>\n",
              "      <td>4.530</td>\n",
              "      <td>0.972138</td>\n",
              "      <td>28.7502</td>\n",
              "      <td>7.642760</td>\n",
              "      <td>5.62592</td>\n",
              "      <td>572.783</td>\n",
              "      <td>No</td>\n",
              "    </tr>\n",
              "    <tr>\n",
              "      <th>22</th>\n",
              "      <td>29</td>\n",
              "      <td>32.270788</td>\n",
              "      <td>84</td>\n",
              "      <td>5.810</td>\n",
              "      <td>1.203832</td>\n",
              "      <td>45.6196</td>\n",
              "      <td>6.209635</td>\n",
              "      <td>24.60330</td>\n",
              "      <td>904.981</td>\n",
              "      <td>No</td>\n",
              "    </tr>\n",
              "    <tr>\n",
              "      <th>23</th>\n",
              "      <td>35</td>\n",
              "      <td>30.276817</td>\n",
              "      <td>84</td>\n",
              "      <td>4.376</td>\n",
              "      <td>0.906707</td>\n",
              "      <td>39.2134</td>\n",
              "      <td>9.048185</td>\n",
              "      <td>16.43706</td>\n",
              "      <td>733.797</td>\n",
              "      <td>No</td>\n",
              "    </tr>\n",
              "    <tr>\n",
              "      <th>24</th>\n",
              "      <td>54</td>\n",
              "      <td>30.483158</td>\n",
              "      <td>90</td>\n",
              "      <td>5.537</td>\n",
              "      <td>1.229214</td>\n",
              "      <td>12.3310</td>\n",
              "      <td>9.731380</td>\n",
              "      <td>10.19299</td>\n",
              "      <td>1227.910</td>\n",
              "      <td>No</td>\n",
              "    </tr>\n",
              "    <tr>\n",
              "      <th>25</th>\n",
              "      <td>45</td>\n",
              "      <td>37.035608</td>\n",
              "      <td>83</td>\n",
              "      <td>6.760</td>\n",
              "      <td>1.383997</td>\n",
              "      <td>39.9802</td>\n",
              "      <td>4.617125</td>\n",
              "      <td>8.70448</td>\n",
              "      <td>586.173</td>\n",
              "      <td>No</td>\n",
              "    </tr>\n",
              "    <tr>\n",
              "      <th>26</th>\n",
              "      <td>50</td>\n",
              "      <td>38.578759</td>\n",
              "      <td>106</td>\n",
              "      <td>6.703</td>\n",
              "      <td>1.752611</td>\n",
              "      <td>46.6401</td>\n",
              "      <td>4.667645</td>\n",
              "      <td>11.78388</td>\n",
              "      <td>887.160</td>\n",
              "      <td>No</td>\n",
              "    </tr>\n",
              "    <tr>\n",
              "      <th>27</th>\n",
              "      <td>66</td>\n",
              "      <td>31.446541</td>\n",
              "      <td>90</td>\n",
              "      <td>9.245</td>\n",
              "      <td>2.052390</td>\n",
              "      <td>45.9624</td>\n",
              "      <td>10.355260</td>\n",
              "      <td>23.38190</td>\n",
              "      <td>1102.110</td>\n",
              "      <td>No</td>\n",
              "    </tr>\n",
              "    <tr>\n",
              "      <th>28</th>\n",
              "      <td>35</td>\n",
              "      <td>35.250761</td>\n",
              "      <td>90</td>\n",
              "      <td>6.817</td>\n",
              "      <td>1.513374</td>\n",
              "      <td>50.6094</td>\n",
              "      <td>6.966895</td>\n",
              "      <td>22.03703</td>\n",
              "      <td>667.928</td>\n",
              "      <td>No</td>\n",
              "    </tr>\n",
              "    <tr>\n",
              "      <th>29</th>\n",
              "      <td>36</td>\n",
              "      <td>34.174890</td>\n",
              "      <td>80</td>\n",
              "      <td>6.590</td>\n",
              "      <td>1.300427</td>\n",
              "      <td>10.2809</td>\n",
              "      <td>5.065915</td>\n",
              "      <td>15.72187</td>\n",
              "      <td>581.313</td>\n",
              "      <td>No</td>\n",
              "    </tr>\n",
              "    <tr>\n",
              "      <th>...</th>\n",
              "      <td>...</td>\n",
              "      <td>...</td>\n",
              "      <td>...</td>\n",
              "      <td>...</td>\n",
              "      <td>...</td>\n",
              "      <td>...</td>\n",
              "      <td>...</td>\n",
              "      <td>...</td>\n",
              "      <td>...</td>\n",
              "      <td>...</td>\n",
              "    </tr>\n",
              "    <tr>\n",
              "      <th>86</th>\n",
              "      <td>48</td>\n",
              "      <td>28.125000</td>\n",
              "      <td>90</td>\n",
              "      <td>2.540</td>\n",
              "      <td>0.563880</td>\n",
              "      <td>15.5325</td>\n",
              "      <td>10.222310</td>\n",
              "      <td>16.11032</td>\n",
              "      <td>1698.440</td>\n",
              "      <td>Yes</td>\n",
              "    </tr>\n",
              "    <tr>\n",
              "      <th>87</th>\n",
              "      <td>85</td>\n",
              "      <td>27.688778</td>\n",
              "      <td>196</td>\n",
              "      <td>51.814</td>\n",
              "      <td>25.050342</td>\n",
              "      <td>70.8824</td>\n",
              "      <td>7.901685</td>\n",
              "      <td>55.21530</td>\n",
              "      <td>1078.359</td>\n",
              "      <td>Yes</td>\n",
              "    </tr>\n",
              "    <tr>\n",
              "      <th>88</th>\n",
              "      <td>48</td>\n",
              "      <td>31.250000</td>\n",
              "      <td>199</td>\n",
              "      <td>12.162</td>\n",
              "      <td>5.969920</td>\n",
              "      <td>18.1314</td>\n",
              "      <td>4.104105</td>\n",
              "      <td>53.63080</td>\n",
              "      <td>1698.440</td>\n",
              "      <td>Yes</td>\n",
              "    </tr>\n",
              "    <tr>\n",
              "      <th>89</th>\n",
              "      <td>58</td>\n",
              "      <td>29.154519</td>\n",
              "      <td>139</td>\n",
              "      <td>16.582</td>\n",
              "      <td>5.685415</td>\n",
              "      <td>22.8884</td>\n",
              "      <td>10.262660</td>\n",
              "      <td>13.97399</td>\n",
              "      <td>923.886</td>\n",
              "      <td>Yes</td>\n",
              "    </tr>\n",
              "    <tr>\n",
              "      <th>90</th>\n",
              "      <td>40</td>\n",
              "      <td>30.836531</td>\n",
              "      <td>128</td>\n",
              "      <td>41.894</td>\n",
              "      <td>13.227332</td>\n",
              "      <td>31.0385</td>\n",
              "      <td>6.160995</td>\n",
              "      <td>17.55503</td>\n",
              "      <td>638.261</td>\n",
              "      <td>Yes</td>\n",
              "    </tr>\n",
              "    <tr>\n",
              "      <th>91</th>\n",
              "      <td>82</td>\n",
              "      <td>31.217482</td>\n",
              "      <td>100</td>\n",
              "      <td>18.077</td>\n",
              "      <td>4.458993</td>\n",
              "      <td>31.6453</td>\n",
              "      <td>9.923650</td>\n",
              "      <td>19.94687</td>\n",
              "      <td>994.316</td>\n",
              "      <td>Yes</td>\n",
              "    </tr>\n",
              "    <tr>\n",
              "      <th>92</th>\n",
              "      <td>52</td>\n",
              "      <td>30.801249</td>\n",
              "      <td>87</td>\n",
              "      <td>30.212</td>\n",
              "      <td>6.483495</td>\n",
              "      <td>29.2739</td>\n",
              "      <td>6.268540</td>\n",
              "      <td>24.24591</td>\n",
              "      <td>764.667</td>\n",
              "      <td>Yes</td>\n",
              "    </tr>\n",
              "    <tr>\n",
              "      <th>93</th>\n",
              "      <td>49</td>\n",
              "      <td>32.461911</td>\n",
              "      <td>134</td>\n",
              "      <td>24.887</td>\n",
              "      <td>8.225983</td>\n",
              "      <td>42.3914</td>\n",
              "      <td>10.793940</td>\n",
              "      <td>5.76800</td>\n",
              "      <td>656.393</td>\n",
              "      <td>Yes</td>\n",
              "    </tr>\n",
              "    <tr>\n",
              "      <th>94</th>\n",
              "      <td>60</td>\n",
              "      <td>31.231410</td>\n",
              "      <td>131</td>\n",
              "      <td>30.130</td>\n",
              "      <td>9.736007</td>\n",
              "      <td>37.8430</td>\n",
              "      <td>8.404430</td>\n",
              "      <td>11.50005</td>\n",
              "      <td>396.021</td>\n",
              "      <td>Yes</td>\n",
              "    </tr>\n",
              "    <tr>\n",
              "      <th>95</th>\n",
              "      <td>49</td>\n",
              "      <td>29.777778</td>\n",
              "      <td>70</td>\n",
              "      <td>8.396</td>\n",
              "      <td>1.449709</td>\n",
              "      <td>51.3387</td>\n",
              "      <td>10.731740</td>\n",
              "      <td>20.76801</td>\n",
              "      <td>602.486</td>\n",
              "      <td>Yes</td>\n",
              "    </tr>\n",
              "    <tr>\n",
              "      <th>96</th>\n",
              "      <td>44</td>\n",
              "      <td>27.887617</td>\n",
              "      <td>99</td>\n",
              "      <td>9.208</td>\n",
              "      <td>2.248594</td>\n",
              "      <td>12.6757</td>\n",
              "      <td>5.478170</td>\n",
              "      <td>23.03306</td>\n",
              "      <td>407.206</td>\n",
              "      <td>Yes</td>\n",
              "    </tr>\n",
              "    <tr>\n",
              "      <th>97</th>\n",
              "      <td>40</td>\n",
              "      <td>27.636054</td>\n",
              "      <td>103</td>\n",
              "      <td>2.432</td>\n",
              "      <td>0.617890</td>\n",
              "      <td>14.3224</td>\n",
              "      <td>6.783870</td>\n",
              "      <td>26.01360</td>\n",
              "      <td>293.123</td>\n",
              "      <td>Yes</td>\n",
              "    </tr>\n",
              "    <tr>\n",
              "      <th>98</th>\n",
              "      <td>71</td>\n",
              "      <td>27.915519</td>\n",
              "      <td>104</td>\n",
              "      <td>18.200</td>\n",
              "      <td>4.668907</td>\n",
              "      <td>53.4997</td>\n",
              "      <td>1.656020</td>\n",
              "      <td>49.24184</td>\n",
              "      <td>256.001</td>\n",
              "      <td>Yes</td>\n",
              "    </tr>\n",
              "    <tr>\n",
              "      <th>99</th>\n",
              "      <td>69</td>\n",
              "      <td>28.444444</td>\n",
              "      <td>108</td>\n",
              "      <td>8.808</td>\n",
              "      <td>2.346451</td>\n",
              "      <td>14.7485</td>\n",
              "      <td>5.288025</td>\n",
              "      <td>16.48508</td>\n",
              "      <td>353.568</td>\n",
              "      <td>Yes</td>\n",
              "    </tr>\n",
              "    <tr>\n",
              "      <th>100</th>\n",
              "      <td>74</td>\n",
              "      <td>28.650138</td>\n",
              "      <td>88</td>\n",
              "      <td>3.012</td>\n",
              "      <td>0.653805</td>\n",
              "      <td>31.1233</td>\n",
              "      <td>7.652220</td>\n",
              "      <td>18.35574</td>\n",
              "      <td>572.401</td>\n",
              "      <td>Yes</td>\n",
              "    </tr>\n",
              "    <tr>\n",
              "      <th>101</th>\n",
              "      <td>66</td>\n",
              "      <td>26.562500</td>\n",
              "      <td>89</td>\n",
              "      <td>6.524</td>\n",
              "      <td>1.432235</td>\n",
              "      <td>14.9084</td>\n",
              "      <td>8.429960</td>\n",
              "      <td>14.91922</td>\n",
              "      <td>269.487</td>\n",
              "      <td>Yes</td>\n",
              "    </tr>\n",
              "    <tr>\n",
              "      <th>102</th>\n",
              "      <td>65</td>\n",
              "      <td>30.915577</td>\n",
              "      <td>97</td>\n",
              "      <td>10.491</td>\n",
              "      <td>2.510147</td>\n",
              "      <td>44.0217</td>\n",
              "      <td>3.710090</td>\n",
              "      <td>20.46850</td>\n",
              "      <td>396.648</td>\n",
              "      <td>Yes</td>\n",
              "    </tr>\n",
              "    <tr>\n",
              "      <th>103</th>\n",
              "      <td>72</td>\n",
              "      <td>29.136316</td>\n",
              "      <td>83</td>\n",
              "      <td>10.949</td>\n",
              "      <td>2.241625</td>\n",
              "      <td>26.8081</td>\n",
              "      <td>2.784910</td>\n",
              "      <td>14.76966</td>\n",
              "      <td>232.018</td>\n",
              "      <td>Yes</td>\n",
              "    </tr>\n",
              "    <tr>\n",
              "      <th>104</th>\n",
              "      <td>57</td>\n",
              "      <td>34.838148</td>\n",
              "      <td>95</td>\n",
              "      <td>12.548</td>\n",
              "      <td>2.940415</td>\n",
              "      <td>33.1612</td>\n",
              "      <td>2.364950</td>\n",
              "      <td>9.95420</td>\n",
              "      <td>655.834</td>\n",
              "      <td>Yes</td>\n",
              "    </tr>\n",
              "    <tr>\n",
              "      <th>105</th>\n",
              "      <td>73</td>\n",
              "      <td>37.109375</td>\n",
              "      <td>134</td>\n",
              "      <td>5.636</td>\n",
              "      <td>1.862886</td>\n",
              "      <td>41.4064</td>\n",
              "      <td>3.335665</td>\n",
              "      <td>6.89235</td>\n",
              "      <td>788.902</td>\n",
              "      <td>Yes</td>\n",
              "    </tr>\n",
              "    <tr>\n",
              "      <th>106</th>\n",
              "      <td>45</td>\n",
              "      <td>29.384757</td>\n",
              "      <td>90</td>\n",
              "      <td>4.713</td>\n",
              "      <td>1.046286</td>\n",
              "      <td>23.8479</td>\n",
              "      <td>6.644245</td>\n",
              "      <td>15.55625</td>\n",
              "      <td>621.273</td>\n",
              "      <td>Yes</td>\n",
              "    </tr>\n",
              "    <tr>\n",
              "      <th>107</th>\n",
              "      <td>46</td>\n",
              "      <td>33.180000</td>\n",
              "      <td>92</td>\n",
              "      <td>5.750</td>\n",
              "      <td>1.304867</td>\n",
              "      <td>18.6900</td>\n",
              "      <td>9.160000</td>\n",
              "      <td>8.89000</td>\n",
              "      <td>209.190</td>\n",
              "      <td>Yes</td>\n",
              "    </tr>\n",
              "    <tr>\n",
              "      <th>108</th>\n",
              "      <td>68</td>\n",
              "      <td>35.560000</td>\n",
              "      <td>131</td>\n",
              "      <td>8.150</td>\n",
              "      <td>2.633537</td>\n",
              "      <td>17.8700</td>\n",
              "      <td>11.900000</td>\n",
              "      <td>4.19000</td>\n",
              "      <td>198.400</td>\n",
              "      <td>Yes</td>\n",
              "    </tr>\n",
              "    <tr>\n",
              "      <th>109</th>\n",
              "      <td>75</td>\n",
              "      <td>30.480000</td>\n",
              "      <td>152</td>\n",
              "      <td>7.010</td>\n",
              "      <td>2.628283</td>\n",
              "      <td>50.5300</td>\n",
              "      <td>10.060000</td>\n",
              "      <td>11.73000</td>\n",
              "      <td>99.450</td>\n",
              "      <td>Yes</td>\n",
              "    </tr>\n",
              "    <tr>\n",
              "      <th>110</th>\n",
              "      <td>54</td>\n",
              "      <td>36.050000</td>\n",
              "      <td>119</td>\n",
              "      <td>11.910</td>\n",
              "      <td>3.495982</td>\n",
              "      <td>89.2700</td>\n",
              "      <td>8.010000</td>\n",
              "      <td>5.06000</td>\n",
              "      <td>218.280</td>\n",
              "      <td>Yes</td>\n",
              "    </tr>\n",
              "    <tr>\n",
              "      <th>111</th>\n",
              "      <td>45</td>\n",
              "      <td>26.850000</td>\n",
              "      <td>92</td>\n",
              "      <td>3.330</td>\n",
              "      <td>0.755688</td>\n",
              "      <td>54.6800</td>\n",
              "      <td>12.100000</td>\n",
              "      <td>10.96000</td>\n",
              "      <td>268.230</td>\n",
              "      <td>Yes</td>\n",
              "    </tr>\n",
              "    <tr>\n",
              "      <th>112</th>\n",
              "      <td>62</td>\n",
              "      <td>26.840000</td>\n",
              "      <td>100</td>\n",
              "      <td>4.530</td>\n",
              "      <td>1.117400</td>\n",
              "      <td>12.4500</td>\n",
              "      <td>21.420000</td>\n",
              "      <td>7.32000</td>\n",
              "      <td>330.160</td>\n",
              "      <td>Yes</td>\n",
              "    </tr>\n",
              "    <tr>\n",
              "      <th>113</th>\n",
              "      <td>65</td>\n",
              "      <td>32.050000</td>\n",
              "      <td>97</td>\n",
              "      <td>5.730</td>\n",
              "      <td>1.370998</td>\n",
              "      <td>61.4800</td>\n",
              "      <td>22.540000</td>\n",
              "      <td>10.33000</td>\n",
              "      <td>314.050</td>\n",
              "      <td>Yes</td>\n",
              "    </tr>\n",
              "    <tr>\n",
              "      <th>114</th>\n",
              "      <td>72</td>\n",
              "      <td>25.590000</td>\n",
              "      <td>82</td>\n",
              "      <td>2.820</td>\n",
              "      <td>0.570392</td>\n",
              "      <td>24.9600</td>\n",
              "      <td>33.750000</td>\n",
              "      <td>3.27000</td>\n",
              "      <td>392.460</td>\n",
              "      <td>Yes</td>\n",
              "    </tr>\n",
              "    <tr>\n",
              "      <th>115</th>\n",
              "      <td>86</td>\n",
              "      <td>27.180000</td>\n",
              "      <td>138</td>\n",
              "      <td>19.910</td>\n",
              "      <td>6.777364</td>\n",
              "      <td>90.2800</td>\n",
              "      <td>14.110000</td>\n",
              "      <td>4.35000</td>\n",
              "      <td>90.090</td>\n",
              "      <td>Yes</td>\n",
              "    </tr>\n",
              "  </tbody>\n",
              "</table>\n",
              "<p>116 rows × 10 columns</p>\n",
              "</div>"
            ],
            "text/plain": [
              "     Age        BMI  Glucose  Insulin       HOMA   Leptin  Adiponectin  \\\n",
              "0     48  23.500000       70    2.707   0.467409   8.8071     9.702400   \n",
              "1     83  20.690495       92    3.115   0.706897   8.8438     5.429285   \n",
              "2     82  23.124670       91    4.498   1.009651  17.9393    22.432040   \n",
              "3     68  21.367521       77    3.226   0.612725   9.8827     7.169560   \n",
              "4     86  21.111111       92    3.549   0.805386   6.6994     4.819240   \n",
              "5     49  22.854458       92    3.226   0.732087   6.8317    13.679750   \n",
              "6     89  22.700000       77    4.690   0.890787   6.9640     5.589865   \n",
              "7     76  23.800000      118    6.470   1.883201   4.3110    13.251320   \n",
              "8     73  22.000000       97    3.350   0.801543   4.4700    10.358725   \n",
              "9     75  23.000000       83    4.952   1.013839  17.1270    11.578990   \n",
              "10    34  21.470000       78    3.469   0.667436  14.5700    13.110000   \n",
              "11    29  23.010000       82    5.663   1.145436  35.5900    26.720000   \n",
              "12    25  22.860000       82    4.090   0.827271  20.4500    23.670000   \n",
              "13    24  18.670000       88    6.107   1.330000   8.8800    36.060000   \n",
              "14    38  23.340000       75    5.782   1.069670  15.2600    17.950000   \n",
              "15    44  20.760000       86    7.553   1.600000  14.0900    20.320000   \n",
              "16    47  22.030000       84    2.869   0.590000  26.6500    38.040000   \n",
              "17    61  32.038959       85   18.077   3.790144  30.7729     7.780255   \n",
              "18    64  34.529723       95    4.427   1.037394  21.2117     5.462620   \n",
              "19    32  36.512637       87   14.026   3.009980  49.3727     5.100000   \n",
              "20    36  28.576676       86    4.345   0.921719  15.1248     8.600000   \n",
              "21    34  31.975015       87    4.530   0.972138  28.7502     7.642760   \n",
              "22    29  32.270788       84    5.810   1.203832  45.6196     6.209635   \n",
              "23    35  30.276817       84    4.376   0.906707  39.2134     9.048185   \n",
              "24    54  30.483158       90    5.537   1.229214  12.3310     9.731380   \n",
              "25    45  37.035608       83    6.760   1.383997  39.9802     4.617125   \n",
              "26    50  38.578759      106    6.703   1.752611  46.6401     4.667645   \n",
              "27    66  31.446541       90    9.245   2.052390  45.9624    10.355260   \n",
              "28    35  35.250761       90    6.817   1.513374  50.6094     6.966895   \n",
              "29    36  34.174890       80    6.590   1.300427  10.2809     5.065915   \n",
              "..   ...        ...      ...      ...        ...      ...          ...   \n",
              "86    48  28.125000       90    2.540   0.563880  15.5325    10.222310   \n",
              "87    85  27.688778      196   51.814  25.050342  70.8824     7.901685   \n",
              "88    48  31.250000      199   12.162   5.969920  18.1314     4.104105   \n",
              "89    58  29.154519      139   16.582   5.685415  22.8884    10.262660   \n",
              "90    40  30.836531      128   41.894  13.227332  31.0385     6.160995   \n",
              "91    82  31.217482      100   18.077   4.458993  31.6453     9.923650   \n",
              "92    52  30.801249       87   30.212   6.483495  29.2739     6.268540   \n",
              "93    49  32.461911      134   24.887   8.225983  42.3914    10.793940   \n",
              "94    60  31.231410      131   30.130   9.736007  37.8430     8.404430   \n",
              "95    49  29.777778       70    8.396   1.449709  51.3387    10.731740   \n",
              "96    44  27.887617       99    9.208   2.248594  12.6757     5.478170   \n",
              "97    40  27.636054      103    2.432   0.617890  14.3224     6.783870   \n",
              "98    71  27.915519      104   18.200   4.668907  53.4997     1.656020   \n",
              "99    69  28.444444      108    8.808   2.346451  14.7485     5.288025   \n",
              "100   74  28.650138       88    3.012   0.653805  31.1233     7.652220   \n",
              "101   66  26.562500       89    6.524   1.432235  14.9084     8.429960   \n",
              "102   65  30.915577       97   10.491   2.510147  44.0217     3.710090   \n",
              "103   72  29.136316       83   10.949   2.241625  26.8081     2.784910   \n",
              "104   57  34.838148       95   12.548   2.940415  33.1612     2.364950   \n",
              "105   73  37.109375      134    5.636   1.862886  41.4064     3.335665   \n",
              "106   45  29.384757       90    4.713   1.046286  23.8479     6.644245   \n",
              "107   46  33.180000       92    5.750   1.304867  18.6900     9.160000   \n",
              "108   68  35.560000      131    8.150   2.633537  17.8700    11.900000   \n",
              "109   75  30.480000      152    7.010   2.628283  50.5300    10.060000   \n",
              "110   54  36.050000      119   11.910   3.495982  89.2700     8.010000   \n",
              "111   45  26.850000       92    3.330   0.755688  54.6800    12.100000   \n",
              "112   62  26.840000      100    4.530   1.117400  12.4500    21.420000   \n",
              "113   65  32.050000       97    5.730   1.370998  61.4800    22.540000   \n",
              "114   72  25.590000       82    2.820   0.570392  24.9600    33.750000   \n",
              "115   86  27.180000      138   19.910   6.777364  90.2800    14.110000   \n",
              "\n",
              "     Resistin     MCP.1 Classification  \n",
              "0     7.99585   417.114             No  \n",
              "1     4.06405   468.786             No  \n",
              "2     9.27715   554.697             No  \n",
              "3    12.76600   928.220             No  \n",
              "4    10.57635   773.920             No  \n",
              "5    10.31760   530.410             No  \n",
              "6    12.93610  1256.083             No  \n",
              "7     5.10420   280.694             No  \n",
              "8     6.28445   136.855             No  \n",
              "9     7.09130   318.302             No  \n",
              "10    6.92000   354.600             No  \n",
              "11    4.58000   174.800             No  \n",
              "12    5.14000   313.730             No  \n",
              "13    6.85000   632.220             No  \n",
              "14    9.35000   165.020             No  \n",
              "15    7.64000    63.610             No  \n",
              "16    3.32000   191.720             No  \n",
              "17   13.68392   444.395             No  \n",
              "18    6.70188   252.449             No  \n",
              "19   17.10223   588.460             No  \n",
              "20    9.15390   534.224             No  \n",
              "21    5.62592   572.783             No  \n",
              "22   24.60330   904.981             No  \n",
              "23   16.43706   733.797             No  \n",
              "24   10.19299  1227.910             No  \n",
              "25    8.70448   586.173             No  \n",
              "26   11.78388   887.160             No  \n",
              "27   23.38190  1102.110             No  \n",
              "28   22.03703   667.928             No  \n",
              "29   15.72187   581.313             No  \n",
              "..        ...       ...            ...  \n",
              "86   16.11032  1698.440            Yes  \n",
              "87   55.21530  1078.359            Yes  \n",
              "88   53.63080  1698.440            Yes  \n",
              "89   13.97399   923.886            Yes  \n",
              "90   17.55503   638.261            Yes  \n",
              "91   19.94687   994.316            Yes  \n",
              "92   24.24591   764.667            Yes  \n",
              "93    5.76800   656.393            Yes  \n",
              "94   11.50005   396.021            Yes  \n",
              "95   20.76801   602.486            Yes  \n",
              "96   23.03306   407.206            Yes  \n",
              "97   26.01360   293.123            Yes  \n",
              "98   49.24184   256.001            Yes  \n",
              "99   16.48508   353.568            Yes  \n",
              "100  18.35574   572.401            Yes  \n",
              "101  14.91922   269.487            Yes  \n",
              "102  20.46850   396.648            Yes  \n",
              "103  14.76966   232.018            Yes  \n",
              "104   9.95420   655.834            Yes  \n",
              "105   6.89235   788.902            Yes  \n",
              "106  15.55625   621.273            Yes  \n",
              "107   8.89000   209.190            Yes  \n",
              "108   4.19000   198.400            Yes  \n",
              "109  11.73000    99.450            Yes  \n",
              "110   5.06000   218.280            Yes  \n",
              "111  10.96000   268.230            Yes  \n",
              "112   7.32000   330.160            Yes  \n",
              "113  10.33000   314.050            Yes  \n",
              "114   3.27000   392.460            Yes  \n",
              "115   4.35000    90.090            Yes  \n",
              "\n",
              "[116 rows x 10 columns]"
            ]
          },
          "metadata": {
            "tags": []
          },
          "execution_count": 41
        }
      ]
    },
    {
      "cell_type": "code",
      "metadata": {
        "id": "pZL9pUovSLg2",
        "colab_type": "code",
        "colab": {
          "base_uri": "https://localhost:8080/",
          "height": 281
        },
        "outputId": "16c57117-1a33-4622-d91b-aad14f8a3526"
      },
      "source": [
        "#Research shows that any variables that are highly correlated\n",
        "#should be removed from further analysis. But, PCA takes care of multicollinearity, so maybe \n",
        "#I identify them which ones there are and let PCA to do its job.  \n",
        "#Just in case let's see how two highly correlated variables look like\n",
        "#using prettyplots\n",
        "import matplotlib.pyplot as plt\n",
        "fig, ax = plt.subplots(1)\n",
        "for i in range(1):\n",
        "    x=df['Age']\n",
        "    y=df['Glucose']\n",
        "    ax.scatter(x,y, label=str(i))\n",
        "#ax.legend()\n",
        "ax.set_title('Correlation of perimeter_mean and area_worst with correlation .99 or r-square= .81')\n",
        "fig.savefig('scatter.png')"
      ],
      "execution_count": 42,
      "outputs": [
        {
          "output_type": "display_data",
          "data": {
            "image/png": "[encoded data removed]",
            "text/plain": [
              "<Figure size 432x288 with 1 Axes>"
            ]
          },
          "metadata": {
            "tags": []
          }
        }
      ]
    },
    {
      "cell_type": "code",
      "metadata": {
        "id": "-J9LcvbRSQMs",
        "colab_type": "code",
        "colab": {
          "base_uri": "https://localhost:8080/",
          "height": 281
        },
        "outputId": "aaf2630a-11da-42aa-d07c-b0738fd96ce8"
      },
      "source": [
        "#Let's visualize another set of variables that are not correlated as highly as the first ones\n",
        "#These have a correlation coefficient of .75 which means an r-squared score of approximately .49\n",
        "fig, ax = plt.subplots(1)\n",
        "for i in range(1):\n",
        "    x=df['Leptin']\n",
        "    y=df['MCP.1']\n",
        "    ax.scatter(x,y, label=str(i))\n",
        "#ax.legend()\n",
        "ax.set_title('Correlation of the mean of concavity and worst compactness')\n",
        "fig.savefig('scatter.png')"
      ],
      "execution_count": 43,
      "outputs": [
        {
          "output_type": "display_data",
          "data": {
            "image/png": "[encoded data removed]",
            "text/plain": [
              "<Figure size 432x288 with 1 Axes>"
            ]
          },
          "metadata": {
            "tags": []
          }
        }
      ]
    },
    {
      "cell_type": "code",
      "metadata": {
        "id": "QSQFKN7CTNGK",
        "colab_type": "code",
        "colab": {
          "base_uri": "https://localhost:8080/",
          "height": 85
        },
        "outputId": "e665c409-561a-43d3-ed36-44551df91c24"
      },
      "source": [
        " def preprocess_features(X):   \n",
        "    # Initialize new output DataFrame\n",
        "    output = pd.DataFrame(index = X.index)\n",
        "\n",
        "    # Investigate each feature column for the data\n",
        "    for col, col_data in X.iteritems():\n",
        "        \n",
        "        # If data type is non-numeric, replace all M/B malignant/benign values with 1/0\n",
        "        if col_data.dtype == object:\n",
        "            col_data = col_data.replace(['Yes', 'No'], [1, 0])\n",
        " \n",
        "        # Collect the revised columns\n",
        "        output = output.join(col_data)\n",
        "    \n",
        "    return output\n",
        "\n",
        "X = preprocess_features(X)\n",
        "Y = preprocess_features(Y)\n",
        "print (\"Processed feature columns ({} total features):\\n{}\".format(len(X.columns), list(X.columns)))\n",
        "print (\"Target columns ({} total features):\\n{}\".format(len(Y.columns), list(Y.columns)))"
      ],
      "execution_count": 44,
      "outputs": [
        {
          "output_type": "stream",
          "text": [
            "Processed feature columns (9 total features):\n",
            "['Age', 'BMI', 'Glucose', 'Insulin', 'HOMA', 'Leptin', 'Adiponectin', 'Resistin', 'MCP.1']\n",
            "Target columns (1 total features):\n",
            "['Classification']\n"
          ],
          "name": "stdout"
        }
      ]
    },
    {
      "cell_type": "code",
      "metadata": {
        "id": "o0I2NnSDUIKS",
        "colab_type": "code",
        "colab": {
          "base_uri": "https://localhost:8080/",
          "height": 51
        },
        "outputId": "c45a1ff0-f77f-439c-93ac-38708a2cf42a"
      },
      "source": [
        "# import cross_validation to split the train and testing\n",
        "from sklearn.model_selection import train_test_split\n",
        "# Set the number of training points\n",
        "nr_train = 93\n",
        "# Set the number of testing points\n",
        "nr_test = X.shape[0] - nr_train\n",
        "\n",
        "# Shuffle and split the dataset into the number of training and testing points above\n",
        "X_train, X_test, Y_train, Y_test = train_test_split(X, Y, test_size=nr_test, random_state=40)\n",
        "\n",
        "# Show the results of the split\n",
        "print (\"Training set has {} samples.\".format(X_train.shape[0]))\n",
        "print (\"Testing set has {} samples.\".format(X_test.shape[0]))"
      ],
      "execution_count": 45,
      "outputs": [
        {
          "output_type": "stream",
          "text": [
            "Training set has 93 samples.\n",
            "Testing set has 23 samples.\n"
          ],
          "name": "stdout"
        }
      ]
    },
    {
      "cell_type": "code",
      "metadata": {
        "id": "Uyb1zvowU4hF",
        "colab_type": "code",
        "colab": {}
      },
      "source": [
        "from sklearn.metrics import f1_score\n",
        "def train_classifier(clf, X_train, Y_train):\n",
        "    ''' Fits a classifier to the training data. '''\n",
        "    \n",
        "    # Start the clock, train the classifier, then stop the clock\n",
        "    start = time()\n",
        "    clf.fit(X_train, Y_train)\n",
        "    end = time()\n",
        "    \n",
        "    # Print the results\n",
        "    print (\"Trained model in {:.4f} seconds\".format(end - start))\n",
        "\n",
        "    \n",
        "def predict_labels(clf, features, target):\n",
        "    ''' Makes predictions using a fit classifier based on F1 score. '''\n",
        "    \n",
        "    # Start the clock, make predictions, then stop the clock\n",
        "    start = time()\n",
        "    Y_pred = clf.predict(features)\n",
        "    end = time()\n",
        "    \n",
        "    # Print and return results\n",
        "    print (\"Made predictions in {:.4f} seconds.\".format(end - start))\n",
        "    return f1_score(target.values, Y_pred, pos_label=1)\n",
        "\n",
        "\n",
        "def train_predict(clf, X_train, Y_train, X_test, Y_test):\n",
        "    ''' Train and predict using a classifer based on F1 score. '''\n",
        "    \n",
        "    # Indicate the classifier and the training set size\n",
        "    print (\"Training a {} using a training set size of {}. . .\".format(clf.__class__.__name__, len(X_train)))\n",
        "    \n",
        "    # Train the classifier\n",
        "    train_classifier(clf, X_train, Y_train)\n",
        "    \n",
        "    # Print the results of prediction for both training and testing\n",
        "    print (\"F1 score for training set: {:.4f}.\".format(predict_labels(clf, X_train, Y_train)))\n",
        "    print (\"F1 score for test set: {:.4f}.\".format(predict_labels(clf, X_test, Y_test)))\n"
      ],
      "execution_count": 0,
      "outputs": []
    },
    {
      "cell_type": "code",
      "metadata": {
        "id": "DgPnnq2LVRgW",
        "colab_type": "code",
        "colab": {}
      },
      "source": [
        "from sklearn.tree import DecisionTreeClassifier\n",
        "from sklearn.svm import SVC\n",
        "from sklearn.neighbors import KNeighborsClassifier\n",
        "from sklearn.naive_bayes import GaussianNB\n",
        "from sklearn.ensemble import RandomForestClassifier\n",
        "from sklearn.ensemble import AdaBoostClassifier\n",
        "from sklearn.discriminant_analysis import QuadraticDiscriminantAnalysis\n",
        "from sklearn.neural_network import MLPClassifier"
      ],
      "execution_count": 0,
      "outputs": []
    },
    {
      "cell_type": "code",
      "metadata": {
        "id": "HBMakOX1VVTd",
        "colab_type": "code",
        "colab": {}
      },
      "source": [
        "clf_A = KNeighborsClassifier()\n",
        "clf_B = DecisionTreeClassifier(random_state=0)\n",
        "clf_C = SVC()\n",
        "clf_D = GaussianNB()\n",
        "clf_E = RandomForestClassifier(n_estimators=10)\n",
        "clf_G = AdaBoostClassifier()\n",
        "clf_H = QuadraticDiscriminantAnalysis()\n",
        "clf_I = MLPClassifier(alpha=1)"
      ],
      "execution_count": 0,
      "outputs": []
    },
    {
      "cell_type": "code",
      "metadata": {
        "id": "C21H2JM9Vmj1",
        "colab_type": "code",
        "colab": {}
      },
      "source": [
        "X_train_23 = X_train[:23]\n",
        "Y_train_23 = Y_train[:23]\n",
        "\n",
        "X_train_46 = X_train[:46]\n",
        "Y_train_46 = Y_train[:46]\n",
        "\n",
        "X_train_69 = X_train[:69]\n",
        "Y_train_69 = Y_train[:69]\n",
        "\n",
        "X_train_93 = X_train[:93]\n",
        "Y_train_93 = Y_train[:93]"
      ],
      "execution_count": 0,
      "outputs": []
    },
    {
      "cell_type": "code",
      "metadata": {
        "id": "tKBkb8ovWWP4",
        "colab_type": "code",
        "colab": {
          "base_uri": "https://localhost:8080/",
          "height": 1000
        },
        "outputId": "76debe23-2849-45c8-c378-61ed30818e45"
      },
      "source": [
        "for clf in [clf_A, clf_B, clf_C, clf_D, clf_E, clf_G, clf_H, clf_I]:\n",
        "    for size in [69, 93]:\n",
        "        train_predict(clf, X_train[:size], Y_train[:size], X_test, Y_test)\n",
        "        print ('/n')"
      ],
      "execution_count": 49,
      "outputs": [
        {
          "output_type": "stream",
          "text": [
            "Training a KNeighborsClassifier using a training set size of 69. . .\n",
            "Trained model in 0.0035 seconds\n",
            "Made predictions in 0.0085 seconds.\n",
            "F1 score for training set: 0.7297.\n",
            "Made predictions in 0.0027 seconds.\n",
            "F1 score for test set: 0.5714.\n",
            "/n\n",
            "Training a KNeighborsClassifier using a training set size of 93. . .\n",
            "Trained model in 0.0019 seconds\n",
            "Made predictions in 0.0043 seconds.\n",
            "F1 score for training set: 0.7477.\n",
            "Made predictions in 0.0022 seconds.\n",
            "F1 score for test set: 0.6667.\n",
            "/n\n",
            "Training a DecisionTreeClassifier using a training set size of 69. . .\n",
            "Trained model in 0.0019 seconds\n",
            "Made predictions in 0.0006 seconds.\n",
            "F1 score for training set: 1.0000.\n",
            "Made predictions in 0.0006 seconds.\n",
            "F1 score for test set: 0.7273.\n",
            "/n\n",
            "Training a DecisionTreeClassifier using a training set size of 93. . .\n",
            "Trained model in 0.0018 seconds\n",
            "Made predictions in 0.0006 seconds.\n",
            "F1 score for training set: 1.0000.\n",
            "Made predictions in 0.0005 seconds.\n",
            "F1 score for test set: 0.6667.\n",
            "/n\n",
            "Training a SVC using a training set size of 69. . .\n",
            "Trained model in 0.0018 seconds\n",
            "Made predictions in 0.0007 seconds.\n",
            "F1 score for training set: 1.0000.\n",
            "Made predictions in 0.0006 seconds.\n",
            "F1 score for test set: 0.7222.\n",
            "/n\n",
            "Training a SVC using a training set size of 93. . .\n",
            "Trained model in 0.0019 seconds\n",
            "Made predictions in 0.0009 seconds.\n",
            "F1 score for training set: 1.0000.\n",
            "Made predictions in 0.0006 seconds.\n",
            "F1 score for test set: 0.7222.\n",
            "/n\n",
            "Training a GaussianNB using a training set size of 69. . .\n",
            "Trained model in 0.0013 seconds\n",
            "Made predictions in 0.0009 seconds.\n",
            "F1 score for training set: 0.6545.\n",
            "Made predictions in 0.0007 seconds.\n",
            "F1 score for test set: 0.6667.\n",
            "/n\n",
            "Training a GaussianNB using a training set size of 93. . .\n",
            "Trained model in 0.0013 seconds\n",
            "Made predictions in 0.0006 seconds.\n",
            "F1 score for training set: 0.5000.\n",
            "Made predictions in 0.0006 seconds.\n",
            "F1 score for test set: 0.6000.\n",
            "/n\n",
            "Training a RandomForestClassifier using a training set size of 69. . .\n",
            "Trained model in 0.0155 seconds\n",
            "Made predictions in 0.0019 seconds.\n",
            "F1 score for training set: 0.9722.\n",
            "Made predictions in 0.0020 seconds.\n",
            "F1 score for test set: 0.8000.\n",
            "/n\n",
            "Training a RandomForestClassifier using a training set size of 93. . .\n",
            "Trained model in 0.0155 seconds\n",
            "Made predictions in 0.0023 seconds.\n",
            "F1 score for training set: 1.0000.\n",
            "Made predictions in 0.0027 seconds.\n",
            "F1 score for test set: 0.7000.\n",
            "/n\n",
            "Training a AdaBoostClassifier using a training set size of 69. . .\n",
            "Trained model in 0.0678 seconds\n",
            "Made predictions in 0.0067 seconds.\n",
            "F1 score for training set: 1.0000.\n",
            "Made predictions in 0.0064 seconds.\n",
            "F1 score for test set: 0.6957."
          ],
          "name": "stdout"
        },
        {
          "output_type": "stream",
          "text": [
            "/usr/local/lib/python3.6/dist-packages/ipykernel_launcher.py:7: DataConversionWarning: A column-vector y was passed when a 1d array was expected. Please change the shape of y to (n_samples, ), for example using ravel().\n",
            "  import sys\n",
            "/usr/local/lib/python3.6/dist-packages/ipykernel_launcher.py:7: DataConversionWarning: A column-vector y was passed when a 1d array was expected. Please change the shape of y to (n_samples, ), for example using ravel().\n",
            "  import sys\n",
            "/usr/local/lib/python3.6/dist-packages/sklearn/utils/validation.py:724: DataConversionWarning: A column-vector y was passed when a 1d array was expected. Please change the shape of y to (n_samples, ), for example using ravel().\n",
            "  y = column_or_1d(y, warn=True)\n",
            "/usr/local/lib/python3.6/dist-packages/sklearn/svm/base.py:193: FutureWarning: The default value of gamma will change from 'auto' to 'scale' in version 0.22 to account better for unscaled features. Set gamma explicitly to 'auto' or 'scale' to avoid this warning.\n",
            "  \"avoid this warning.\", FutureWarning)\n",
            "/usr/local/lib/python3.6/dist-packages/sklearn/utils/validation.py:724: DataConversionWarning: A column-vector y was passed when a 1d array was expected. Please change the shape of y to (n_samples, ), for example using ravel().\n",
            "  y = column_or_1d(y, warn=True)\n",
            "/usr/local/lib/python3.6/dist-packages/sklearn/svm/base.py:193: FutureWarning: The default value of gamma will change from 'auto' to 'scale' in version 0.22 to account better for unscaled features. Set gamma explicitly to 'auto' or 'scale' to avoid this warning.\n",
            "  \"avoid this warning.\", FutureWarning)\n",
            "/usr/local/lib/python3.6/dist-packages/sklearn/utils/validation.py:724: DataConversionWarning: A column-vector y was passed when a 1d array was expected. Please change the shape of y to (n_samples, ), for example using ravel().\n",
            "  y = column_or_1d(y, warn=True)\n",
            "/usr/local/lib/python3.6/dist-packages/sklearn/utils/validation.py:724: DataConversionWarning: A column-vector y was passed when a 1d array was expected. Please change the shape of y to (n_samples, ), for example using ravel().\n",
            "  y = column_or_1d(y, warn=True)\n",
            "/usr/local/lib/python3.6/dist-packages/ipykernel_launcher.py:7: DataConversionWarning: A column-vector y was passed when a 1d array was expected. Please change the shape of y to (n_samples,), for example using ravel().\n",
            "  import sys\n",
            "/usr/local/lib/python3.6/dist-packages/ipykernel_launcher.py:7: DataConversionWarning: A column-vector y was passed when a 1d array was expected. Please change the shape of y to (n_samples,), for example using ravel().\n",
            "  import sys\n",
            "/usr/local/lib/python3.6/dist-packages/sklearn/utils/validation.py:724: DataConversionWarning: A column-vector y was passed when a 1d array was expected. Please change the shape of y to (n_samples, ), for example using ravel().\n",
            "  y = column_or_1d(y, warn=True)\n",
            "/usr/local/lib/python3.6/dist-packages/sklearn/utils/validation.py:724: DataConversionWarning: A column-vector y was passed when a 1d array was expected. Please change the shape of y to (n_samples, ), for example using ravel().\n",
            "  y = column_or_1d(y, warn=True)\n"
          ],
          "name": "stderr"
        },
        {
          "output_type": "stream",
          "text": [
            "\n",
            "/n\n",
            "Training a AdaBoostClassifier using a training set size of 93. . .\n",
            "Trained model in 0.0761 seconds\n",
            "Made predictions in 0.0070 seconds.\n",
            "F1 score for training set: 1.0000.\n",
            "Made predictions in 0.0061 seconds.\n",
            "F1 score for test set: 0.6000.\n",
            "/n\n",
            "Training a QuadraticDiscriminantAnalysis using a training set size of 69. . .\n",
            "Trained model in 0.0014 seconds\n",
            "Made predictions in 0.0008 seconds.\n",
            "F1 score for training set: 0.7869.\n",
            "Made predictions in 0.0007 seconds.\n",
            "F1 score for test set: 0.6000.\n",
            "/n\n",
            "Training a QuadraticDiscriminantAnalysis using a training set size of 93. . .\n",
            "Trained model in 0.0012 seconds\n",
            "Made predictions in 0.0007 seconds.\n",
            "F1 score for training set: 0.7073.\n",
            "Made predictions in 0.0006 seconds.\n",
            "F1 score for test set: 0.4444.\n",
            "/n\n",
            "Training a MLPClassifier using a training set size of 69. . .\n",
            "Trained model in 0.0181 seconds\n",
            "Made predictions in 0.0010 seconds.\n",
            "F1 score for training set: 0.6863.\n",
            "Made predictions in 0.0012 seconds.\n",
            "F1 score for test set: 0.6000.\n",
            "/n\n",
            "Training a MLPClassifier using a training set size of 93. . .\n"
          ],
          "name": "stdout"
        },
        {
          "output_type": "stream",
          "text": [
            "/usr/local/lib/python3.6/dist-packages/sklearn/utils/validation.py:724: DataConversionWarning: A column-vector y was passed when a 1d array was expected. Please change the shape of y to (n_samples, ), for example using ravel().\n",
            "  y = column_or_1d(y, warn=True)\n",
            "/usr/local/lib/python3.6/dist-packages/sklearn/utils/validation.py:724: DataConversionWarning: A column-vector y was passed when a 1d array was expected. Please change the shape of y to (n_samples, ), for example using ravel().\n",
            "  y = column_or_1d(y, warn=True)\n",
            "/usr/local/lib/python3.6/dist-packages/sklearn/neural_network/multilayer_perceptron.py:921: DataConversionWarning: A column-vector y was passed when a 1d array was expected. Please change the shape of y to (n_samples, ), for example using ravel().\n",
            "  y = column_or_1d(y, warn=True)\n",
            "/usr/local/lib/python3.6/dist-packages/sklearn/neural_network/multilayer_perceptron.py:921: DataConversionWarning: A column-vector y was passed when a 1d array was expected. Please change the shape of y to (n_samples, ), for example using ravel().\n",
            "  y = column_or_1d(y, warn=True)\n"
          ],
          "name": "stderr"
        },
        {
          "output_type": "stream",
          "text": [
            "Trained model in 0.1698 seconds\n",
            "Made predictions in 0.0013 seconds.\n",
            "F1 score for training set: 0.8713.\n",
            "Made predictions in 0.0011 seconds.\n",
            "F1 score for test set: 0.7500.\n",
            "/n\n"
          ],
          "name": "stdout"
        },
        {
          "output_type": "stream",
          "text": [
            "/usr/local/lib/python3.6/dist-packages/sklearn/neural_network/multilayer_perceptron.py:566: ConvergenceWarning: Stochastic Optimizer: Maximum iterations (200) reached and the optimization hasn't converged yet.\n",
            "  % self.max_iter, ConvergenceWarning)\n"
          ],
          "name": "stderr"
        }
      ]
    },
    {
      "cell_type": "code",
      "metadata": {
        "id": "2U8X8mQXWuza",
        "colab_type": "code",
        "colab": {
          "base_uri": "https://localhost:8080/",
          "height": 197
        },
        "outputId": "958cc50a-4399-4552-f8d0-112cc749609b"
      },
      "source": [
        "clf_D = GaussianNB()\n",
        "clf_G = AdaBoostClassifier(algorithm = 'SAMME')\n",
        "clf_H = QuadraticDiscriminantAnalysis(reg_param = 0.001, store_covariances=True, tol = 0.01)"
      ],
      "execution_count": 50,
      "outputs": [
        {
          "output_type": "error",
          "ename": "TypeError",
          "evalue": "ignored",
          "traceback": [
            "\u001b[0;31m---------------------------------------------------------------------------\u001b[0m",
            "\u001b[0;31mTypeError\u001b[0m                                 Traceback (most recent call last)",
            "\u001b[0;32m<ipython-input-50-bd17fea7f09a>\u001b[0m in \u001b[0;36m<module>\u001b[0;34m()\u001b[0m\n\u001b[1;32m      1\u001b[0m \u001b[0mclf_D\u001b[0m \u001b[0;34m=\u001b[0m \u001b[0mGaussianNB\u001b[0m\u001b[0;34m(\u001b[0m\u001b[0;34m)\u001b[0m\u001b[0;34m\u001b[0m\u001b[0;34m\u001b[0m\u001b[0m\n\u001b[1;32m      2\u001b[0m \u001b[0mclf_G\u001b[0m \u001b[0;34m=\u001b[0m \u001b[0mAdaBoostClassifier\u001b[0m\u001b[0;34m(\u001b[0m\u001b[0malgorithm\u001b[0m \u001b[0;34m=\u001b[0m \u001b[0;34m'SAMME'\u001b[0m\u001b[0;34m)\u001b[0m\u001b[0;34m\u001b[0m\u001b[0;34m\u001b[0m\u001b[0m\n\u001b[0;32m----> 3\u001b[0;31m \u001b[0mclf_H\u001b[0m \u001b[0;34m=\u001b[0m \u001b[0mQuadraticDiscriminantAnalysis\u001b[0m\u001b[0;34m(\u001b[0m\u001b[0mreg_param\u001b[0m \u001b[0;34m=\u001b[0m \u001b[0;36m0.001\u001b[0m\u001b[0;34m,\u001b[0m \u001b[0mstore_covariances\u001b[0m\u001b[0;34m=\u001b[0m\u001b[0;32mTrue\u001b[0m\u001b[0;34m,\u001b[0m \u001b[0mtol\u001b[0m \u001b[0;34m=\u001b[0m \u001b[0;36m0.01\u001b[0m\u001b[0;34m)\u001b[0m\u001b[0;34m\u001b[0m\u001b[0;34m\u001b[0m\u001b[0m\n\u001b[0m",
            "\u001b[0;31mTypeError\u001b[0m: __init__() got an unexpected keyword argument 'store_covariances'"
          ]
        }
      ]
    },
    {
      "cell_type": "code",
      "metadata": {
        "id": "YuWz-TacWzfE",
        "colab_type": "code",
        "colab": {}
      },
      "source": [
        "X_train_300 = X_train[:69]\n",
        "Y_train_300 = Y_train[:69]\n",
        "\n",
        "X_train_300 = X_train[:93]\n",
        "Y_train_300 = Y_train[:93]"
      ],
      "execution_count": 0,
      "outputs": []
    },
    {
      "cell_type": "code",
      "metadata": {
        "id": "veSIICDiZSqk",
        "colab_type": "code",
        "colab": {
          "base_uri": "https://localhost:8080/",
          "height": 955
        },
        "outputId": "78129bd0-ab6c-4cf5-86fb-0079adda80c4"
      },
      "source": [
        "for clf in [clf_D, clf_G, clf_H]:\n",
        "    for size in [69, 93]:\n",
        "        train_predict(clf, X_train[:size], Y_train[:size], X_test, Y_test)\n",
        "        print ('/n')"
      ],
      "execution_count": 52,
      "outputs": [
        {
          "output_type": "stream",
          "text": [
            "Training a GaussianNB using a training set size of 69. . .\n",
            "Trained model in 0.0026 seconds\n",
            "Made predictions in 0.0017 seconds.\n",
            "F1 score for training set: 0.6545.\n",
            "Made predictions in 0.0016 seconds.\n",
            "F1 score for test set: 0.6667.\n",
            "/n\n",
            "Training a GaussianNB using a training set size of 93. . .\n",
            "Trained model in 0.0026 seconds\n",
            "Made predictions in 0.0019 seconds.\n",
            "F1 score for training set: 0.5000.\n",
            "Made predictions in 0.0009 seconds.\n",
            "F1 score for test set: 0.6000.\n",
            "/n\n",
            "Training a AdaBoostClassifier using a training set size of 69. . .\n",
            "Trained model in 0.0599 seconds\n",
            "Made predictions in 0.0045 seconds.\n",
            "F1 score for training set: 1.0000.\n",
            "Made predictions in 0.0041 seconds.\n",
            "F1 score for test set: 0.7273.\n",
            "/n\n",
            "Training a AdaBoostClassifier using a training set size of 93. . .\n",
            "Trained model in 0.0597 seconds\n",
            "Made predictions in 0.0045 seconds.\n",
            "F1 score for training set: 0.9703.\n",
            "Made predictions in 0.0047 seconds.\n",
            "F1 score for test set: 0.9286.\n",
            "/n\n",
            "Training a QuadraticDiscriminantAnalysis using a training set size of 69. . .\n",
            "Trained model in 0.0017 seconds\n",
            "Made predictions in 0.0011 seconds.\n",
            "F1 score for training set: 0.7869.\n",
            "Made predictions in 0.0008 seconds.\n",
            "F1 score for test set: 0.6000.\n",
            "/n\n",
            "Training a QuadraticDiscriminantAnalysis using a training set size of 93. . .\n",
            "Trained model in 0.0016 seconds\n",
            "Made predictions in 0.0010 seconds.\n",
            "F1 score for training set: 0.7073.\n",
            "Made predictions in 0.0008 seconds.\n",
            "F1 score for test set: 0.4444.\n",
            "/n\n"
          ],
          "name": "stdout"
        },
        {
          "output_type": "stream",
          "text": [
            "/usr/local/lib/python3.6/dist-packages/sklearn/utils/validation.py:724: DataConversionWarning: A column-vector y was passed when a 1d array was expected. Please change the shape of y to (n_samples, ), for example using ravel().\n",
            "  y = column_or_1d(y, warn=True)\n",
            "/usr/local/lib/python3.6/dist-packages/sklearn/utils/validation.py:724: DataConversionWarning: A column-vector y was passed when a 1d array was expected. Please change the shape of y to (n_samples, ), for example using ravel().\n",
            "  y = column_or_1d(y, warn=True)\n",
            "/usr/local/lib/python3.6/dist-packages/sklearn/utils/validation.py:724: DataConversionWarning: A column-vector y was passed when a 1d array was expected. Please change the shape of y to (n_samples, ), for example using ravel().\n",
            "  y = column_or_1d(y, warn=True)\n",
            "/usr/local/lib/python3.6/dist-packages/sklearn/utils/validation.py:724: DataConversionWarning: A column-vector y was passed when a 1d array was expected. Please change the shape of y to (n_samples, ), for example using ravel().\n",
            "  y = column_or_1d(y, warn=True)\n",
            "/usr/local/lib/python3.6/dist-packages/sklearn/utils/validation.py:724: DataConversionWarning: A column-vector y was passed when a 1d array was expected. Please change the shape of y to (n_samples, ), for example using ravel().\n",
            "  y = column_or_1d(y, warn=True)\n",
            "/usr/local/lib/python3.6/dist-packages/sklearn/utils/validation.py:724: DataConversionWarning: A column-vector y was passed when a 1d array was expected. Please change the shape of y to (n_samples, ), for example using ravel().\n",
            "  y = column_or_1d(y, warn=True)\n"
          ],
          "name": "stderr"
        }
      ]
    },
    {
      "cell_type": "code",
      "metadata": {
        "id": "AhQeMce-Zj7A",
        "colab_type": "code",
        "colab": {}
      },
      "source": [
        "from itertools import cycle\n",
        "from sklearn.metrics import roc_curve, auc\n",
        "from sklearn.preprocessing import label_binarize\n",
        "from sklearn.multiclass import OneVsRestClassifier\n",
        "from scipy import interp"
      ],
      "execution_count": 0,
      "outputs": []
    },
    {
      "cell_type": "code",
      "metadata": {
        "id": "U59zbmxRZoTK",
        "colab_type": "code",
        "colab": {
          "base_uri": "https://localhost:8080/",
          "height": 34
        },
        "outputId": "20297abe-ea70-4fe6-edef-f0a899390c39"
      },
      "source": [
        "Y_test.shape"
      ],
      "execution_count": 54,
      "outputs": [
        {
          "output_type": "execute_result",
          "data": {
            "text/plain": [
              "(23, 1)"
            ]
          },
          "metadata": {
            "tags": []
          },
          "execution_count": 54
        }
      ]
    },
    {
      "cell_type": "code",
      "metadata": {
        "id": "Qv5Gg5LVZsP6",
        "colab_type": "code",
        "colab": {}
      },
      "source": [
        "from sklearn.datasets import make_classification"
      ],
      "execution_count": 0,
      "outputs": []
    },
    {
      "cell_type": "code",
      "metadata": {
        "id": "zTlBQF7PavNH",
        "colab_type": "code",
        "colab": {}
      },
      "source": [
        "!pip install pandas==0.22"
      ],
      "execution_count": 0,
      "outputs": []
    },
    {
      "cell_type": "code",
      "metadata": {
        "id": "QzNgblxgZwTv",
        "colab_type": "code",
        "colab": {}
      },
      "source": [
        "from sklearn import metrics\n",
        "import pandas as pd\n",
        "from ggplot import *\n",
        "import rpy2"
      ],
      "execution_count": 0,
      "outputs": []
    },
    {
      "cell_type": "code",
      "metadata": {
        "id": "vFXqTXg1aMoE",
        "colab_type": "code",
        "colab": {}
      },
      "source": [
        "! pip install ggplot"
      ],
      "execution_count": 0,
      "outputs": []
    },
    {
      "cell_type": "code",
      "metadata": {
        "id": "ARuSajo1aO2G",
        "colab_type": "code",
        "colab": {
          "base_uri": "https://localhost:8080/",
          "height": 579
        },
        "outputId": "3c885753-75b5-4160-e789-11d0410dfc61"
      },
      "source": [
        "# ROC curve for Naive Bayes\n",
        "preds = clf_D.predict_proba(X_test)[:,1]\n",
        "fpr, tpr, _ = metrics.roc_curve(Y_test, preds)\n",
        "\n",
        "df = pd.DataFrame(dict(fpr=fpr, tpr=tpr))\n",
        "ggplot(df, aes(x='fpr', y='tpr')) +\\\n",
        "    geom_line() +\\\n",
        "    geom_abline(linetype='dashed')+\\\n",
        "    ggtitle (\"ROC for Naive Bayes has an area under the curve of \" + str(metrics.auc(fpr,tpr)))\n",
        "#auc = metrics.auc(fpr,tpr)\n",
        "#ggtitle (\"Area under the curve is \"+ str(auc))\n",
        "#ggtitle(\"ROC Curve w/ AUC=%s\" % str(auc))"
      ],
      "execution_count": 57,
      "outputs": [
        {
          "output_type": "display_data",
          "data": {
            "image/png": "[encoded data removed]",
            "text/plain": [
              "<Figure size 792x576 with 1 Axes>"
            ]
          },
          "metadata": {
            "tags": []
          }
        },
        {
          "output_type": "execute_result",
          "data": {
            "text/plain": [
              "<ggplot: (8734789864105)>"
            ]
          },
          "metadata": {
            "tags": []
          },
          "execution_count": 57
        }
      ]
    },
    {
      "cell_type": "code",
      "metadata": {
        "id": "EVcjUPl-bRe-",
        "colab_type": "code",
        "colab": {
          "base_uri": "https://localhost:8080/",
          "height": 529
        },
        "outputId": "2711f2c6-5ab4-4e37-97c9-9ee38fd35af8"
      },
      "source": [
        "\n",
        "auc = metrics.auc(fpr,tpr)\n",
        "ggplot(df, aes(x='fpr', y='tpr')) + geom_area(alpha=0.2) + geom_line(aes(y='tpr', color = 'blue'))"
      ],
      "execution_count": 58,
      "outputs": [
        {
          "output_type": "display_data",
          "data": {
            "image/png": "[encoded data removed]",
            "text/plain": [
              "<Figure size 792x576 with 1 Axes>"
            ]
          },
          "metadata": {
            "tags": []
          }
        },
        {
          "output_type": "execute_result",
          "data": {
            "text/plain": [
              "<ggplot: (8734789864049)>"
            ]
          },
          "metadata": {
            "tags": []
          },
          "execution_count": 58
        }
      ]
    },
    {
      "cell_type": "code",
      "metadata": {
        "id": "f5TGd1qCdUiK",
        "colab_type": "code",
        "colab": {
          "base_uri": "https://localhost:8080/",
          "height": 579
        },
        "outputId": "4bb2eb52-a927-47d7-f7e6-937407571807"
      },
      "source": [
        "# ROC curve for AdaBoost\n",
        "preds = clf_G.predict_proba(X_test)[:,1]\n",
        "fprA, tprA, _ = metrics.roc_curve(Y_test, preds)\n",
        "\n",
        "df = pd.DataFrame(dict(fprA=fprA, tprA=tprA))\n",
        "ggplot(df, aes(x='fprA', y='tprA')) +\\\n",
        "    geom_line() +\\\n",
        "    geom_abline(linetype='dashed')+\\\n",
        "    ggtitle (\"ROC for AdaBoost has an area under the curve of \" + str(metrics.auc(fprA,tprA)))"
      ],
      "execution_count": 59,
      "outputs": [
        {
          "output_type": "display_data",
          "data": {
            "image/png": "[encoded data removed]",
            "text/plain": [
              "<Figure size 792x576 with 1 Axes>"
            ]
          },
          "metadata": {
            "tags": []
          }
        },
        {
          "output_type": "execute_result",
          "data": {
            "text/plain": [
              "<ggplot: (8734788599844)>"
            ]
          },
          "metadata": {
            "tags": []
          },
          "execution_count": 59
        }
      ]
    },
    {
      "cell_type": "code",
      "metadata": {
        "id": "K7I0Oakydeh5",
        "colab_type": "code",
        "colab": {
          "base_uri": "https://localhost:8080/",
          "height": 529
        },
        "outputId": "c7c4ca48-962c-4ac3-9282-43bbebec419c"
      },
      "source": [
        "auc = metrics.auc(fprA,tprA)\n",
        "ggplot(df, aes(x='fprA', y='tprA')) + geom_area(alpha=0.2) + geom_line(aes(y='tprA', colour = 'orange'))"
      ],
      "execution_count": 60,
      "outputs": [
        {
          "output_type": "display_data",
          "data": {
            "image/png": "[encoded data removed]",
            "text/plain": [
              "<Figure size 792x576 with 1 Axes>"
            ]
          },
          "metadata": {
            "tags": []
          }
        },
        {
          "output_type": "execute_result",
          "data": {
            "text/plain": [
              "<ggplot: (-9223363302064911763)>"
            ]
          },
          "metadata": {
            "tags": []
          },
          "execution_count": 60
        }
      ]
    },
    {
      "cell_type": "code",
      "metadata": {
        "id": "5uQd0kyHdl2S",
        "colab_type": "code",
        "colab": {
          "base_uri": "https://localhost:8080/",
          "height": 579
        },
        "outputId": "9fc82f03-2b6b-4bf8-8a24-4eb45b0fa38a"
      },
      "source": [
        "# ROC curve for QDA\n",
        "preds = clf_H.predict_proba(X_test)[:,1]\n",
        "fprH, tprH, _ = metrics.roc_curve(Y_test, preds)\n",
        "\n",
        "df = pd.DataFrame(dict(fprH=fprH, tprH=tprH))\n",
        "ggplot(df, aes(x='fprH', y='tprH')) +\\\n",
        "    geom_line() +\\\n",
        "    geom_abline(linetype='dashed')+\\\n",
        "    ggtitle (\"ROC for QDA has an area under the curve of \" + str(metrics.auc(fprH,tprH)))"
      ],
      "execution_count": 61,
      "outputs": [
        {
          "output_type": "display_data",
          "data": {
            "image/png": "[encoded data removed]",
            "text/plain": [
              "<Figure size 792x576 with 1 Axes>"
            ]
          },
          "metadata": {
            "tags": []
          }
        },
        {
          "output_type": "execute_result",
          "data": {
            "text/plain": [
              "<ggplot: (8734793470258)>"
            ]
          },
          "metadata": {
            "tags": []
          },
          "execution_count": 61
        }
      ]
    },
    {
      "cell_type": "code",
      "metadata": {
        "id": "aP2rGQWEdzaJ",
        "colab_type": "code",
        "colab": {
          "base_uri": "https://localhost:8080/",
          "height": 529
        },
        "outputId": "dd5a96cf-7bf7-4173-e253-af68092128bc"
      },
      "source": [
        "auc = metrics.auc(fprH,tprH)\n",
        "ggplot(df, aes(x='fprH', y='tprH')) + geom_area(alpha=0.2) + geom_line(aes(y='tprH', color = 'red'))"
      ],
      "execution_count": 62,
      "outputs": [
        {
          "output_type": "display_data",
          "data": {
            "image/png": "[encoded data removed]",
            "text/plain": [
              "<Figure size 792x576 with 1 Axes>"
            ]
          },
          "metadata": {
            "tags": []
          }
        },
        {
          "output_type": "execute_result",
          "data": {
            "text/plain": [
              "<ggplot: (-9223363302064745784)>"
            ]
          },
          "metadata": {
            "tags": []
          },
          "execution_count": 62
        }
      ]
    },
    {
      "cell_type": "code",
      "metadata": {
        "id": "24XyIL-hd5Bi",
        "colab_type": "code",
        "colab": {
          "base_uri": "https://localhost:8080/",
          "height": 579
        },
        "outputId": "6d9241e4-f24e-4f9b-b2a3-f4152f424dc0"
      },
      "source": [
        "# ROC curve for K-Neighbors\n",
        "preds = clf_A.predict_proba(X_test)[:,1]\n",
        "fprN, tprN, _ = metrics.roc_curve(Y_test, preds)\n",
        "\n",
        "df = pd.DataFrame(dict(fprN=fprN, tprN=tprN))\n",
        "ggplot(df, aes(x='fprN', y='tprN')) +\\\n",
        "    geom_line() +\\\n",
        "    geom_abline(linetype='dashed')+\\\n",
        "    ggtitle (\"ROC for K-Neighbors has an area under the curve of \" + str(metrics.auc(fprN,tprN)))"
      ],
      "execution_count": 63,
      "outputs": [
        {
          "output_type": "display_data",
          "data": {
            "image/png": "[encoded data removed]",
            "text/plain": [
              "<Figure size 792x576 with 1 Axes>"
            ]
          },
          "metadata": {
            "tags": []
          }
        },
        {
          "output_type": "execute_result",
          "data": {
            "text/plain": [
              "<ggplot: (8734788534690)>"
            ]
          },
          "metadata": {
            "tags": []
          },
          "execution_count": 63
        }
      ]
    },
    {
      "cell_type": "code",
      "metadata": {
        "id": "CV49FCzteAk5",
        "colab_type": "code",
        "colab": {
          "base_uri": "https://localhost:8080/",
          "height": 579
        },
        "outputId": "02704cf2-c680-4564-e2be-0cae11c5fba6"
      },
      "source": [
        "# ROC curve for Decision trees\n",
        "preds = clf_B.predict_proba(X_test)[:,1]\n",
        "fprD, tprD, _ = metrics.roc_curve(Y_test, preds)\n",
        "\n",
        "df = pd.DataFrame(dict(fprD=fprD, tprD=tprD))\n",
        "ggplot(df, aes(x='fprD', y='tprD')) +\\\n",
        "    geom_line() +\\\n",
        "    geom_abline(linetype='dashed')+\\\n",
        "    ggtitle (\"ROC for Decision Trees has an area under the curve of \" + str(metrics.auc(fprD,tprD)))\n"
      ],
      "execution_count": 64,
      "outputs": [
        {
          "output_type": "display_data",
          "data": {
            "image/png": "[encoded data removed]",
            "text/plain": [
              "<Figure size 792x576 with 1 Axes>"
            ]
          },
          "metadata": {
            "tags": []
          }
        },
        {
          "output_type": "execute_result",
          "data": {
            "text/plain": [
              "<ggplot: (8734788554998)>"
            ]
          },
          "metadata": {
            "tags": []
          },
          "execution_count": 64
        }
      ]
    },
    {
      "cell_type": "code",
      "metadata": {
        "id": "mk6nta8beHQt",
        "colab_type": "code",
        "colab": {
          "base_uri": "https://localhost:8080/",
          "height": 51
        },
        "outputId": "dbe05ab3-24fe-4aac-b4b5-f4f273b4dbca"
      },
      "source": [
        "# Set the number of training points much smaller than before\n",
        "nr_train = 93\n",
        "# Set the number of testing points\n",
        "nr_test = X.shape[0] - nr_train\n",
        "\n",
        "# Shuffle and split the dataset into the number of training and testing points above\n",
        "X_train, X_test, Y_train, Y_test = train_test_split(X, Y, test_size=nr_test, random_state=40)\n",
        "\n",
        "# Show the results of the split\n",
        "print (\"Training set has {} samples.\".format(X_train.shape[0]))\n",
        "print (\"Testing set has {} samples.\".format(X_test.shape[0]))"
      ],
      "execution_count": 66,
      "outputs": [
        {
          "output_type": "stream",
          "text": [
            "Training set has 93 samples.\n",
            "Testing set has 23 samples.\n"
          ],
          "name": "stdout"
        }
      ]
    },
    {
      "cell_type": "code",
      "metadata": {
        "id": "Xi97jel9e7wH",
        "colab_type": "code",
        "colab": {
          "base_uri": "https://localhost:8080/",
          "height": 496
        },
        "outputId": "fa334ada-42d3-4147-9dca-ccec78ba8094"
      },
      "source": [
        "for clf in [clf_D, clf_G, clf_H]:\n",
        "    for size in [93]:\n",
        "        train_predict(clf, X_train[:size], Y_train[:size], X_test, Y_test)\n",
        "        print ('/n')"
      ],
      "execution_count": 69,
      "outputs": [
        {
          "output_type": "stream",
          "text": [
            "Training a GaussianNB using a training set size of 93. . .\n",
            "Trained model in 0.0042 seconds\n",
            "Made predictions in 0.0014 seconds.\n",
            "F1 score for training set: 0.5000.\n",
            "Made predictions in 0.0008 seconds.\n",
            "F1 score for test set: 0.6000.\n",
            "/n\n",
            "Training a AdaBoostClassifier using a training set size of 93. . .\n",
            "Trained model in 0.0608 seconds\n",
            "Made predictions in 0.0044 seconds.\n",
            "F1 score for training set: 0.9703.\n",
            "Made predictions in 0.0040 seconds.\n",
            "F1 score for test set: 0.9286.\n",
            "/n\n",
            "Training a QuadraticDiscriminantAnalysis using a training set size of 93. . .\n",
            "Trained model in 0.0015 seconds\n",
            "Made predictions in 0.0008 seconds.\n",
            "F1 score for training set: 0.7073.\n",
            "Made predictions in 0.0007 seconds.\n",
            "F1 score for test set: 0.4444.\n",
            "/n\n"
          ],
          "name": "stdout"
        },
        {
          "output_type": "stream",
          "text": [
            "/usr/local/lib/python3.6/dist-packages/sklearn/utils/validation.py:724: DataConversionWarning: A column-vector y was passed when a 1d array was expected. Please change the shape of y to (n_samples, ), for example using ravel().\n",
            "  y = column_or_1d(y, warn=True)\n",
            "/usr/local/lib/python3.6/dist-packages/sklearn/utils/validation.py:724: DataConversionWarning: A column-vector y was passed when a 1d array was expected. Please change the shape of y to (n_samples, ), for example using ravel().\n",
            "  y = column_or_1d(y, warn=True)\n",
            "/usr/local/lib/python3.6/dist-packages/sklearn/utils/validation.py:724: DataConversionWarning: A column-vector y was passed when a 1d array was expected. Please change the shape of y to (n_samples, ), for example using ravel().\n",
            "  y = column_or_1d(y, warn=True)\n"
          ],
          "name": "stderr"
        }
      ]
    },
    {
      "cell_type": "code",
      "metadata": {
        "id": "-OXHY02CgRLF",
        "colab_type": "code",
        "colab": {
          "base_uri": "https://localhost:8080/",
          "height": 579
        },
        "outputId": "a8a4322d-fd10-4400-8cff-e8a21d56c46d"
      },
      "source": [
        "preds = clf_H.predict_proba(X_test)[:,1]\n",
        "fprH, tprH, _ = metrics.roc_curve(Y_test, preds)\n",
        "\n",
        "df = pd.DataFrame(dict(fprH=fprH, tprH=tprH))\n",
        "ggplot(df, aes(x='fprH', y='tprH')) +\\\n",
        "    geom_line() +\\\n",
        "    geom_abline(linetype='dashed')+\\\n",
        "    ggtitle (\"ROC for QDA has an area under the curve of \" + str(metrics.auc(fprH,tprH)))"
      ],
      "execution_count": 70,
      "outputs": [
        {
          "output_type": "display_data",
          "data": {
            "image/png": "[encoded data removed]",
            "text/plain": [
              "<Figure size 792x576 with 1 Axes>"
            ]
          },
          "metadata": {
            "tags": []
          }
        },
        {
          "output_type": "execute_result",
          "data": {
            "text/plain": [
              "<ggplot: (8734788422846)>"
            ]
          },
          "metadata": {
            "tags": []
          },
          "execution_count": 70
        }
      ]
    },
    {
      "cell_type": "code",
      "metadata": {
        "id": "qH_iiAjuge4H",
        "colab_type": "code",
        "colab": {
          "base_uri": "https://localhost:8080/",
          "height": 579
        },
        "outputId": "d96145e7-1edf-4a82-86ed-e98b4b851b2d"
      },
      "source": [
        "# ROC curve for AdaBoost\n",
        "preds = clf_G.predict_proba(X_test)[:,1]\n",
        "fprA, tprA, _ = metrics.roc_curve(Y_test, preds)\n",
        "\n",
        "df = pd.DataFrame(dict(fprA=fprA, tprA=tprA))\n",
        "ggplot(df, aes(x='fprA', y='tprA')) +\\\n",
        "    geom_line() +\\\n",
        "    geom_abline(linetype='dashed')+\\\n",
        "    ggtitle (\"ROC for AdaBoost has an area under the curve of \" + str(metrics.auc(fprA,tprA)))"
      ],
      "execution_count": 71,
      "outputs": [
        {
          "output_type": "display_data",
          "data": {
            "image/png": "[encoded data removed]",
            "text/plain": [
              "<Figure size 792x576 with 1 Axes>"
            ]
          },
          "metadata": {
            "tags": []
          }
        },
        {
          "output_type": "execute_result",
          "data": {
            "text/plain": [
              "<ggplot: (8734788415864)>"
            ]
          },
          "metadata": {
            "tags": []
          },
          "execution_count": 71
        }
      ]
    },
    {
      "cell_type": "code",
      "metadata": {
        "id": "0E-umqo2grKo",
        "colab_type": "code",
        "colab": {
          "base_uri": "https://localhost:8080/",
          "height": 579
        },
        "outputId": "70a46121-2985-4130-a609-1f2c9d959055"
      },
      "source": [
        "# ROC curve for Naive Bayes\n",
        "preds = clf_D.predict_proba(X_test)[:,1]\n",
        "fpr, tpr, _ = metrics.roc_curve(Y_test, preds)\n",
        "\n",
        "df = pd.DataFrame(dict(fpr=fpr, tpr=tpr))\n",
        "ggplot(df, aes(x='fpr', y='tpr')) +\\\n",
        "    geom_line() +\\\n",
        "    geom_abline(linetype='dashed')+\\\n",
        "    ggtitle (\"ROC for Naive Bayes has an area under the curve of \" + str(metrics.auc(fpr,tpr)))"
      ],
      "execution_count": 72,
      "outputs": [
        {
          "output_type": "display_data",
          "data": {
            "image/png": "[encoded data removed]",
            "text/plain": [
              "<Figure size 792x576 with 1 Axes>"
            ]
          },
          "metadata": {
            "tags": []
          }
        },
        {
          "output_type": "execute_result",
          "data": {
            "text/plain": [
              "<ggplot: (-9223363302066389290)>"
            ]
          },
          "metadata": {
            "tags": []
          },
          "execution_count": 72
        }
      ]
    },
    {
      "cell_type": "code",
      "metadata": {
        "id": "VSrvoaOHg4-O",
        "colab_type": "code",
        "colab": {
          "base_uri": "https://localhost:8080/",
          "height": 51
        },
        "outputId": "63025ed7-5650-4ddf-de16-52862713c3bd"
      },
      "source": [
        "# Set the number of training points much smaller than before\n",
        "nr_train = 80\n",
        "# Set the number of testing points\n",
        "nr_test = X.shape[0] - nr_train\n",
        "\n",
        "# Shuffle and split the dataset into the number of training and testing points above\n",
        "X_train, X_test, Y_train, Y_test = train_test_split(X, Y, test_size=nr_test, random_state=40)\n",
        "\n",
        "# Show the results of the split\n",
        "print (\"Training set has {} samples.\".format(X_train.shape[0]))\n",
        "print (\"Testing set has {} samples.\".format(X_test.shape[0]))"
      ],
      "execution_count": 73,
      "outputs": [
        {
          "output_type": "stream",
          "text": [
            "Training set has 80 samples.\n",
            "Testing set has 36 samples.\n"
          ],
          "name": "stdout"
        }
      ]
    },
    {
      "cell_type": "code",
      "metadata": {
        "id": "mHkghTUAokNt",
        "colab_type": "code",
        "colab": {
          "base_uri": "https://localhost:8080/",
          "height": 564
        },
        "outputId": "337bfb73-ea53-4ee8-fc52-755dd8e7b70d"
      },
      "source": [
        "for clf in [clf_D, clf_G, clf_H]:\n",
        "    for size in [20]:\n",
        "        train_predict(clf, X_train[:size], Y_train[:size], X_test, Y_test)\n",
        "        print ('/n')"
      ],
      "execution_count": 74,
      "outputs": [
        {
          "output_type": "stream",
          "text": [
            "Training a GaussianNB using a training set size of 20. . .\n",
            "Trained model in 0.0030 seconds\n",
            "Made predictions in 0.0013 seconds.\n",
            "F1 score for training set: 0.7500.\n",
            "Made predictions in 0.0012 seconds.\n",
            "F1 score for test set: 0.5455.\n",
            "/n\n",
            "Training a AdaBoostClassifier using a training set size of 20. . .\n",
            "Trained model in 0.0553 seconds\n",
            "Made predictions in 0.0040 seconds.\n",
            "F1 score for training set: 1.0000.\n",
            "Made predictions in 0.0041 seconds.\n",
            "F1 score for test set: 0.7500.\n",
            "/n\n",
            "Training a QuadraticDiscriminantAnalysis using a training set size of 20. . .\n",
            "Trained model in 0.0064 seconds\n",
            "Made predictions in 0.0009 seconds.\n",
            "F1 score for training set: 1.0000.\n",
            "Made predictions in 0.0008 seconds.\n",
            "F1 score for test set: 0.0000.\n",
            "/n\n"
          ],
          "name": "stdout"
        },
        {
          "output_type": "stream",
          "text": [
            "/usr/local/lib/python3.6/dist-packages/sklearn/utils/validation.py:724: DataConversionWarning: A column-vector y was passed when a 1d array was expected. Please change the shape of y to (n_samples, ), for example using ravel().\n",
            "  y = column_or_1d(y, warn=True)\n",
            "/usr/local/lib/python3.6/dist-packages/sklearn/utils/validation.py:724: DataConversionWarning: A column-vector y was passed when a 1d array was expected. Please change the shape of y to (n_samples, ), for example using ravel().\n",
            "  y = column_or_1d(y, warn=True)\n",
            "/usr/local/lib/python3.6/dist-packages/sklearn/utils/validation.py:724: DataConversionWarning: A column-vector y was passed when a 1d array was expected. Please change the shape of y to (n_samples, ), for example using ravel().\n",
            "  y = column_or_1d(y, warn=True)\n",
            "/usr/local/lib/python3.6/dist-packages/sklearn/discriminant_analysis.py:693: UserWarning: Variables are collinear\n",
            "  warnings.warn(\"Variables are collinear\")\n",
            "/usr/local/lib/python3.6/dist-packages/sklearn/metrics/classification.py:1437: UndefinedMetricWarning: F-score is ill-defined and being set to 0.0 due to no predicted samples.\n",
            "  'precision', 'predicted', average, warn_for)\n"
          ],
          "name": "stderr"
        }
      ]
    }
  ]
}